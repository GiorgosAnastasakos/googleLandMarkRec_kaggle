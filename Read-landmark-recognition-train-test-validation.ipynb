{
 "cells": [
  {
   "cell_type": "code",
   "execution_count": 1,
   "metadata": {
    "_execution_state": "idle",
    "_uuid": "051d70d956493feee0c6d64651c6a088724dca2a",
    "execution": {
     "iopub.execute_input": "2020-08-31T22:42:07.763081Z",
     "iopub.status.busy": "2020-08-31T22:42:07.760300Z",
     "iopub.status.idle": "2020-08-31T22:42:10.981076Z",
     "shell.execute_reply": "2020-08-31T22:42:10.979562Z"
    },
    "papermill": {
     "duration": 3.266193,
     "end_time": "2020-08-31T22:42:10.981370",
     "exception": false,
     "start_time": "2020-08-31T22:42:07.715177",
     "status": "completed"
    },
    "tags": []
   },
   "outputs": [
    {
     "name": "stderr",
     "output_type": "stream",
     "text": [
      "── \u001b[1mAttaching packages\u001b[22m ─────────────────────────────────────── tidyverse 1.3.0 ──\n",
      "\n",
      "\u001b[32m✔\u001b[39m \u001b[34mggplot2\u001b[39m 3.3.2.\u001b[31m9000\u001b[39m     \u001b[32m✔\u001b[39m \u001b[34mpurrr  \u001b[39m 0.3.4     \n",
      "\u001b[32m✔\u001b[39m \u001b[34mtibble \u001b[39m 3.0.3          \u001b[32m✔\u001b[39m \u001b[34mdplyr  \u001b[39m 1.0.1     \n",
      "\u001b[32m✔\u001b[39m \u001b[34mtidyr  \u001b[39m 1.1.1          \u001b[32m✔\u001b[39m \u001b[34mstringr\u001b[39m 1.4.0     \n",
      "\u001b[32m✔\u001b[39m \u001b[34mreadr  \u001b[39m 1.3.1          \u001b[32m✔\u001b[39m \u001b[34mforcats\u001b[39m 0.5.0     \n",
      "\n",
      "── \u001b[1mConflicts\u001b[22m ────────────────────────────────────────── tidyverse_conflicts() ──\n",
      "\u001b[31m✖\u001b[39m \u001b[34mdplyr\u001b[39m::\u001b[32mfilter()\u001b[39m masks \u001b[34mstats\u001b[39m::filter()\n",
      "\u001b[31m✖\u001b[39m \u001b[34mdplyr\u001b[39m::\u001b[32mlag()\u001b[39m    masks \u001b[34mstats\u001b[39m::lag()\n",
      "\n"
     ]
    }
   ],
   "source": [
    "\n",
    "library(keras)\n",
    "library(tidyverse)"
   ]
  },
  {
   "cell_type": "code",
   "execution_count": 2,
   "metadata": {
    "execution": {
     "iopub.execute_input": "2020-08-31T22:42:11.068766Z",
     "iopub.status.busy": "2020-08-31T22:42:11.012468Z",
     "iopub.status.idle": "2020-08-31T22:42:14.269409Z",
     "shell.execute_reply": "2020-08-31T22:42:14.267830Z"
    },
    "papermill": {
     "duration": 3.274426,
     "end_time": "2020-08-31T22:42:14.269695",
     "exception": false,
     "start_time": "2020-08-31T22:42:10.995269",
     "status": "completed"
    },
    "tags": []
   },
   "outputs": [
    {
     "name": "stderr",
     "output_type": "stream",
     "text": [
      "Parsed with column specification:\n",
      "cols(\n",
      "  id = \u001b[31mcol_character()\u001b[39m,\n",
      "  landmark_id = \u001b[32mcol_double()\u001b[39m\n",
      ")\n",
      "\n"
     ]
    }
   ],
   "source": [
    "data <- read_csv(\"../input//landmark-recognition-2020//train.csv\")"
   ]
  },
  {
   "cell_type": "code",
   "execution_count": 3,
   "metadata": {
    "execution": {
     "iopub.execute_input": "2020-08-31T22:42:14.301763Z",
     "iopub.status.busy": "2020-08-31T22:42:14.300322Z",
     "iopub.status.idle": "2020-08-31T22:45:35.987132Z",
     "shell.execute_reply": "2020-08-31T22:45:35.987651Z"
    },
    "papermill": {
     "duration": 201.704619,
     "end_time": "2020-08-31T22:45:35.987857",
     "exception": false,
     "start_time": "2020-08-31T22:42:14.283238",
     "status": "completed"
    },
    "tags": []
   },
   "outputs": [
    {
     "data": {
      "image/png": "[encoded data removed]"
     },
     "metadata": {
      "image/png": {
       "height": 420,
       "width": 420
      }
     },
     "output_type": "display_data"
    }
   ],
   "source": [
    "ggplot(data, aes(as.factor(landmark_id)))+\n",
    "geom_bar()"
   ]
  },
  {
   "cell_type": "markdown",
   "execution_count": null,
   "metadata": {
    "papermill": {
     "duration": 0.014633,
     "end_time": "2020-08-31T22:45:36.015694",
     "exception": false,
     "start_time": "2020-08-31T22:45:36.001061",
     "status": "completed"
    },
    "tags": []
   },
   "source": [
    "Preprocessing\n"
   ]
  },
  {
   "cell_type": "code",
   "execution_count": 4,
   "metadata": {
    "execution": {
     "iopub.execute_input": "2020-08-31T22:45:36.049054Z",
     "iopub.status.busy": "2020-08-31T22:45:36.047586Z",
     "iopub.status.idle": "2020-08-31T22:45:36.080133Z",
     "shell.execute_reply": "2020-08-31T22:45:36.077976Z"
    },
    "papermill": {
     "duration": 0.051032,
     "end_time": "2020-08-31T22:45:36.080362",
     "exception": false,
     "start_time": "2020-08-31T22:45:36.029330",
     "status": "completed"
    },
    "tags": []
   },
   "outputs": [
    {
     "data": {
      "text/html": [
       "<table class=\"dataframe\">\n",
       "<caption>A tibble: 6 × 2</caption>\n",
       "<thead>\n",
       "\t<tr><th scope=col>id</th><th scope=col>landmark_id</th></tr>\n",
       "\t<tr><th scope=col>&lt;chr&gt;</th><th scope=col>&lt;dbl&gt;</th></tr>\n",
       "</thead>\n",
       "<tbody>\n",
       "\t<tr><td>17660ef415d37059</td><td>1</td></tr>\n",
       "\t<tr><td>92b6290d571448f6</td><td>1</td></tr>\n",
       "\t<tr><td>cd41bf948edc0340</td><td>1</td></tr>\n",
       "\t<tr><td>fb09f1e98c6d2f70</td><td>1</td></tr>\n",
       "\t<tr><td>25c9dfc7ea69838d</td><td>7</td></tr>\n",
       "\t<tr><td>28b13f94a6f1f3c1</td><td>7</td></tr>\n",
       "</tbody>\n",
       "</table>\n"
      ],
      "text/latex": [
       "A tibble: 6 × 2\n",
       "\\begin{tabular}{ll}\n",
       " id & landmark\\_id\\\\\n",
       " <chr> & <dbl>\\\\\n",
       "\\hline\n",
       "\t 17660ef415d37059 & 1\\\\\n",
       "\t 92b6290d571448f6 & 1\\\\\n",
       "\t cd41bf948edc0340 & 1\\\\\n",
       "\t fb09f1e98c6d2f70 & 1\\\\\n",
       "\t 25c9dfc7ea69838d & 7\\\\\n",
       "\t 28b13f94a6f1f3c1 & 7\\\\\n",
       "\\end{tabular}\n"
      ],
      "text/markdown": [
       "\n",
       "A tibble: 6 × 2\n",
       "\n",
       "| id &lt;chr&gt; | landmark_id &lt;dbl&gt; |\n",
       "|---|---|\n",
       "| 17660ef415d37059 | 1 |\n",
       "| 92b6290d571448f6 | 1 |\n",
       "| cd41bf948edc0340 | 1 |\n",
       "| fb09f1e98c6d2f70 | 1 |\n",
       "| 25c9dfc7ea69838d | 7 |\n",
       "| 28b13f94a6f1f3c1 | 7 |\n",
       "\n"
      ],
      "text/plain": [
       "  id               landmark_id\n",
       "1 17660ef415d37059 1          \n",
       "2 92b6290d571448f6 1          \n",
       "3 cd41bf948edc0340 1          \n",
       "4 fb09f1e98c6d2f70 1          \n",
       "5 25c9dfc7ea69838d 7          \n",
       "6 28b13f94a6f1f3c1 7          "
      ]
     },
     "metadata": {},
     "output_type": "display_data"
    },
    {
     "data": {
      "text/html": [
       "<style>\n",
       ".list-inline {list-style: none; margin:0; padding: 0}\n",
       ".list-inline>li {display: inline-block}\n",
       ".list-inline>li:not(:last-child)::after {content: \"\\00b7\"; padding: 0 .5ex}\n",
       "</style>\n",
       "<ol class=list-inline><li>1580470</li><li>2</li></ol>\n"
      ],
      "text/latex": [
       "\\begin{enumerate*}\n",
       "\\item 1580470\n",
       "\\item 2\n",
       "\\end{enumerate*}\n"
      ],
      "text/markdown": [
       "1. 1580470\n",
       "2. 2\n",
       "\n",
       "\n"
      ],
      "text/plain": [
       "[1] 1580470       2"
      ]
     },
     "metadata": {},
     "output_type": "display_data"
    }
   ],
   "source": [
    "head(data)\n",
    "dim(data)"
   ]
  },
  {
   "cell_type": "markdown",
   "execution_count": null,
   "metadata": {
    "papermill": {
     "duration": 0.01398,
     "end_time": "2020-08-31T22:45:36.108852",
     "exception": false,
     "start_time": "2020-08-31T22:45:36.094872",
     "status": "completed"
    },
    "tags": []
   },
   "source": [
    "Train data frame"
   ]
  },
  {
   "cell_type": "code",
   "execution_count": 5,
   "metadata": {
    "execution": {
     "iopub.execute_input": "2020-08-31T22:45:36.143435Z",
     "iopub.status.busy": "2020-08-31T22:45:36.141915Z",
     "iopub.status.idle": "2020-08-31T22:58:18.471146Z",
     "shell.execute_reply": "2020-08-31T22:58:18.468819Z"
    },
    "papermill": {
     "duration": 762.349297,
     "end_time": "2020-08-31T22:58:18.472014",
     "exception": false,
     "start_time": "2020-08-31T22:45:36.122717",
     "status": "completed"
    },
    "tags": []
   },
   "outputs": [
    {
     "name": "stdout",
     "output_type": "stream",
     "text": [
      "total  train files are : 1580470"
     ]
    }
   ],
   "source": [
    "# Create train dataFrame\n",
    "folder=\"train\"\n",
    "    folder_list <- c(list.dirs(paste(\"../input//landmark-recognition-2020/\",folder,\"/\",sep = \"\")))             \n",
    "    folder_list <- folder_list[str_length(string = folder_list)==48]     \n",
    "    # sum of total files\n",
    "    total_files <- 0\n",
    "    for(i in 1:length(folder_list)){\n",
    "    sum <-length(list.files(folder_list[i]))  \n",
    "    total_files <- total_files + sum \n",
    "    }\n",
    "    cat(\"total \",folder, \"files are :\",total_files)  \n",
    "    train_files <-tibble()\n",
    "    for(i in 1:length(folder_list)){\n",
    "        files <-list.files(folder_list[i])\n",
    "        file_path <- paste0(folder_list[i],\"/\",files,sep=\"\")\n",
    "        kouvas <- tibble(files = files, file_path = file_path)\n",
    "        train_files <- rbind(train_files,kouvas)\n",
    "    }\n",
    "    train_files$files <- str_remove(train_files$files,pattern = \".jpg\")   \n",
    "       "
   ]
  },
  {
   "cell_type": "code",
   "execution_count": 6,
   "metadata": {
    "execution": {
     "iopub.execute_input": "2020-08-31T22:58:18.545729Z",
     "iopub.status.busy": "2020-08-31T22:58:18.544394Z",
     "iopub.status.idle": "2020-08-31T22:58:23.864997Z",
     "shell.execute_reply": "2020-08-31T22:58:23.862682Z"
    },
    "papermill": {
     "duration": 5.369669,
     "end_time": "2020-08-31T22:58:23.865214",
     "exception": false,
     "start_time": "2020-08-31T22:58:18.495545",
     "status": "completed"
    },
    "tags": []
   },
   "outputs": [],
   "source": [
    "write_csv(train_files, \"train_files.csv\")"
   ]
  },
  {
   "cell_type": "code",
   "execution_count": null,
   "metadata": {
    "papermill": {
     "duration": 0.018041,
     "end_time": "2020-08-31T22:58:23.904023",
     "exception": false,
     "start_time": "2020-08-31T22:58:23.885982",
     "status": "completed"
    },
    "tags": []
   },
   "outputs": [],
   "source": []
  },
  {
   "cell_type": "code",
   "execution_count": 7,
   "metadata": {
    "execution": {
     "iopub.execute_input": "2020-08-31T22:58:23.940257Z",
     "iopub.status.busy": "2020-08-31T22:58:23.938459Z",
     "iopub.status.idle": "2020-08-31T22:58:23.980126Z",
     "shell.execute_reply": "2020-08-31T22:58:23.978924Z"
    },
    "papermill": {
     "duration": 0.060843,
     "end_time": "2020-08-31T22:58:23.980301",
     "exception": false,
     "start_time": "2020-08-31T22:58:23.919458",
     "status": "completed"
    },
    "tags": []
   },
   "outputs": [
    {
     "data": {
      "text/html": [
       "<style>\n",
       ".list-inline {list-style: none; margin:0; padding: 0}\n",
       ".list-inline>li {display: inline-block}\n",
       ".list-inline>li:not(:last-child)::after {content: \"\\00b7\"; padding: 0 .5ex}\n",
       "</style>\n",
       "<ol class=list-inline><li>1580470</li><li>2</li></ol>\n"
      ],
      "text/latex": [
       "\\begin{enumerate*}\n",
       "\\item 1580470\n",
       "\\item 2\n",
       "\\end{enumerate*}\n"
      ],
      "text/markdown": [
       "1. 1580470\n",
       "2. 2\n",
       "\n",
       "\n"
      ],
      "text/plain": [
       "[1] 1580470       2"
      ]
     },
     "metadata": {},
     "output_type": "display_data"
    },
    {
     "data": {
      "text/html": [
       "<table class=\"dataframe\">\n",
       "<caption>A tibble: 6 × 2</caption>\n",
       "<thead>\n",
       "\t<tr><th scope=col>files</th><th scope=col>file_path</th></tr>\n",
       "\t<tr><th scope=col>&lt;chr&gt;</th><th scope=col>&lt;chr&gt;</th></tr>\n",
       "</thead>\n",
       "<tbody>\n",
       "\t<tr><td>0000059611c7d079</td><td>../input//landmark-recognition-2020/train//0/0/0/0000059611c7d079.jpg</td></tr>\n",
       "\t<tr><td>000014b1f770f640</td><td>../input//landmark-recognition-2020/train//0/0/0/000014b1f770f640.jpg</td></tr>\n",
       "\t<tr><td>000015f76534add3</td><td>../input//landmark-recognition-2020/train//0/0/0/000015f76534add3.jpg</td></tr>\n",
       "\t<tr><td>00001ae42cd00356</td><td>../input//landmark-recognition-2020/train//0/0/0/00001ae42cd00356.jpg</td></tr>\n",
       "\t<tr><td>00001b2ba2c69ac5</td><td>../input//landmark-recognition-2020/train//0/0/0/00001b2ba2c69ac5.jpg</td></tr>\n",
       "\t<tr><td>000020dfc079c013</td><td>../input//landmark-recognition-2020/train//0/0/0/000020dfc079c013.jpg</td></tr>\n",
       "</tbody>\n",
       "</table>\n"
      ],
      "text/latex": [
       "A tibble: 6 × 2\n",
       "\\begin{tabular}{ll}\n",
       " files & file\\_path\\\\\n",
       " <chr> & <chr>\\\\\n",
       "\\hline\n",
       "\t 0000059611c7d079 & ../input//landmark-recognition-2020/train//0/0/0/0000059611c7d079.jpg\\\\\n",
       "\t 000014b1f770f640 & ../input//landmark-recognition-2020/train//0/0/0/000014b1f770f640.jpg\\\\\n",
       "\t 000015f76534add3 & ../input//landmark-recognition-2020/train//0/0/0/000015f76534add3.jpg\\\\\n",
       "\t 00001ae42cd00356 & ../input//landmark-recognition-2020/train//0/0/0/00001ae42cd00356.jpg\\\\\n",
       "\t 00001b2ba2c69ac5 & ../input//landmark-recognition-2020/train//0/0/0/00001b2ba2c69ac5.jpg\\\\\n",
       "\t 000020dfc079c013 & ../input//landmark-recognition-2020/train//0/0/0/000020dfc079c013.jpg\\\\\n",
       "\\end{tabular}\n"
      ],
      "text/markdown": [
       "\n",
       "A tibble: 6 × 2\n",
       "\n",
       "| files &lt;chr&gt; | file_path &lt;chr&gt; |\n",
       "|---|---|\n",
       "| 0000059611c7d079 | ../input//landmark-recognition-2020/train//0/0/0/0000059611c7d079.jpg |\n",
       "| 000014b1f770f640 | ../input//landmark-recognition-2020/train//0/0/0/000014b1f770f640.jpg |\n",
       "| 000015f76534add3 | ../input//landmark-recognition-2020/train//0/0/0/000015f76534add3.jpg |\n",
       "| 00001ae42cd00356 | ../input//landmark-recognition-2020/train//0/0/0/00001ae42cd00356.jpg |\n",
       "| 00001b2ba2c69ac5 | ../input//landmark-recognition-2020/train//0/0/0/00001b2ba2c69ac5.jpg |\n",
       "| 000020dfc079c013 | ../input//landmark-recognition-2020/train//0/0/0/000020dfc079c013.jpg |\n",
       "\n"
      ],
      "text/plain": [
       "  files           \n",
       "1 0000059611c7d079\n",
       "2 000014b1f770f640\n",
       "3 000015f76534add3\n",
       "4 00001ae42cd00356\n",
       "5 00001b2ba2c69ac5\n",
       "6 000020dfc079c013\n",
       "  file_path                                                            \n",
       "1 ../input//landmark-recognition-2020/train//0/0/0/0000059611c7d079.jpg\n",
       "2 ../input//landmark-recognition-2020/train//0/0/0/000014b1f770f640.jpg\n",
       "3 ../input//landmark-recognition-2020/train//0/0/0/000015f76534add3.jpg\n",
       "4 ../input//landmark-recognition-2020/train//0/0/0/00001ae42cd00356.jpg\n",
       "5 ../input//landmark-recognition-2020/train//0/0/0/00001b2ba2c69ac5.jpg\n",
       "6 ../input//landmark-recognition-2020/train//0/0/0/000020dfc079c013.jpg"
      ]
     },
     "metadata": {},
     "output_type": "display_data"
    },
    {
     "data": {
      "text/html": [
       "<table class=\"dataframe\">\n",
       "<caption>A tibble: 6 × 2</caption>\n",
       "<thead>\n",
       "\t<tr><th scope=col>files</th><th scope=col>file_path</th></tr>\n",
       "\t<tr><th scope=col>&lt;chr&gt;</th><th scope=col>&lt;chr&gt;</th></tr>\n",
       "</thead>\n",
       "<tbody>\n",
       "\t<tr><td>ffff72cbc6776a86</td><td>../input//landmark-recognition-2020/train//f/f/f/ffff72cbc6776a86.jpg</td></tr>\n",
       "\t<tr><td>ffffa7978e8cf3c0</td><td>../input//landmark-recognition-2020/train//f/f/f/ffffa7978e8cf3c0.jpg</td></tr>\n",
       "\t<tr><td>ffffa7a97e805849</td><td>../input//landmark-recognition-2020/train//f/f/f/ffffa7a97e805849.jpg</td></tr>\n",
       "\t<tr><td>ffffbcd15dc0dc7d</td><td>../input//landmark-recognition-2020/train//f/f/f/ffffbcd15dc0dc7d.jpg</td></tr>\n",
       "\t<tr><td>ffffd21941691bea</td><td>../input//landmark-recognition-2020/train//f/f/f/ffffd21941691bea.jpg</td></tr>\n",
       "\t<tr><td>fffffaad1727f1c1</td><td>../input//landmark-recognition-2020/train//f/f/f/fffffaad1727f1c1.jpg</td></tr>\n",
       "</tbody>\n",
       "</table>\n"
      ],
      "text/latex": [
       "A tibble: 6 × 2\n",
       "\\begin{tabular}{ll}\n",
       " files & file\\_path\\\\\n",
       " <chr> & <chr>\\\\\n",
       "\\hline\n",
       "\t ffff72cbc6776a86 & ../input//landmark-recognition-2020/train//f/f/f/ffff72cbc6776a86.jpg\\\\\n",
       "\t ffffa7978e8cf3c0 & ../input//landmark-recognition-2020/train//f/f/f/ffffa7978e8cf3c0.jpg\\\\\n",
       "\t ffffa7a97e805849 & ../input//landmark-recognition-2020/train//f/f/f/ffffa7a97e805849.jpg\\\\\n",
       "\t ffffbcd15dc0dc7d & ../input//landmark-recognition-2020/train//f/f/f/ffffbcd15dc0dc7d.jpg\\\\\n",
       "\t ffffd21941691bea & ../input//landmark-recognition-2020/train//f/f/f/ffffd21941691bea.jpg\\\\\n",
       "\t fffffaad1727f1c1 & ../input//landmark-recognition-2020/train//f/f/f/fffffaad1727f1c1.jpg\\\\\n",
       "\\end{tabular}\n"
      ],
      "text/markdown": [
       "\n",
       "A tibble: 6 × 2\n",
       "\n",
       "| files &lt;chr&gt; | file_path &lt;chr&gt; |\n",
       "|---|---|\n",
       "| ffff72cbc6776a86 | ../input//landmark-recognition-2020/train//f/f/f/ffff72cbc6776a86.jpg |\n",
       "| ffffa7978e8cf3c0 | ../input//landmark-recognition-2020/train//f/f/f/ffffa7978e8cf3c0.jpg |\n",
       "| ffffa7a97e805849 | ../input//landmark-recognition-2020/train//f/f/f/ffffa7a97e805849.jpg |\n",
       "| ffffbcd15dc0dc7d | ../input//landmark-recognition-2020/train//f/f/f/ffffbcd15dc0dc7d.jpg |\n",
       "| ffffd21941691bea | ../input//landmark-recognition-2020/train//f/f/f/ffffd21941691bea.jpg |\n",
       "| fffffaad1727f1c1 | ../input//landmark-recognition-2020/train//f/f/f/fffffaad1727f1c1.jpg |\n",
       "\n"
      ],
      "text/plain": [
       "  files           \n",
       "1 ffff72cbc6776a86\n",
       "2 ffffa7978e8cf3c0\n",
       "3 ffffa7a97e805849\n",
       "4 ffffbcd15dc0dc7d\n",
       "5 ffffd21941691bea\n",
       "6 fffffaad1727f1c1\n",
       "  file_path                                                            \n",
       "1 ../input//landmark-recognition-2020/train//f/f/f/ffff72cbc6776a86.jpg\n",
       "2 ../input//landmark-recognition-2020/train//f/f/f/ffffa7978e8cf3c0.jpg\n",
       "3 ../input//landmark-recognition-2020/train//f/f/f/ffffa7a97e805849.jpg\n",
       "4 ../input//landmark-recognition-2020/train//f/f/f/ffffbcd15dc0dc7d.jpg\n",
       "5 ../input//landmark-recognition-2020/train//f/f/f/ffffd21941691bea.jpg\n",
       "6 ../input//landmark-recognition-2020/train//f/f/f/fffffaad1727f1c1.jpg"
      ]
     },
     "metadata": {},
     "output_type": "display_data"
    }
   ],
   "source": [
    "dim(train_files)\n",
    "head(train_files)\n",
    "tail(train_files)"
   ]
  },
  {
   "cell_type": "code",
   "execution_count": 8,
   "metadata": {
    "execution": {
     "iopub.execute_input": "2020-08-31T22:58:24.018287Z",
     "iopub.status.busy": "2020-08-31T22:58:24.016453Z",
     "iopub.status.idle": "2020-08-31T22:58:43.396717Z",
     "shell.execute_reply": "2020-08-31T22:58:43.394558Z"
    },
    "papermill": {
     "duration": 19.401608,
     "end_time": "2020-08-31T22:58:43.396991",
     "exception": false,
     "start_time": "2020-08-31T22:58:23.995383",
     "status": "completed"
    },
    "tags": []
   },
   "outputs": [
    {
     "name": "stdout",
     "output_type": "stream",
     "text": [
      "total  test files are : 10345"
     ]
    }
   ],
   "source": [
    "# Create test dataFrame\n",
    "folder=\"test\"\n",
    "    folder_list <- c(list.dirs(paste(\"../input//landmark-recognition-2020/\",folder,\"/\",sep = \"\")))             \n",
    "    folder_list <- folder_list[str_length(string = folder_list)==47]  \n",
    "    # sum of total files\n",
    "    total_files <- 0\n",
    "    for(i in 1:length(folder_list)){\n",
    "    sum <-length(list.files(folder_list[i]))  \n",
    "    total_files <- total_files + sum \n",
    "    }       \n",
    "    cat(\"total \",folder, \"files are :\",total_files)\n",
    "      \n",
    "test_files <- tibble()\n",
    "    for(i in 1:length(folder_list)){\n",
    "        files <-list.files(folder_list[i])\n",
    "        file_path <- paste0(folder_list[i],\"/\",files,sep=\"\")\n",
    "        kouvas <- tibble(files = files, file_path = file_path)\n",
    "        test_files <- rbind(test_files,kouvas)\n",
    "    }\n",
    "    test_files$files <- str_remove(test_files$files,pattern = \".jpg\")\n",
    "  "
   ]
  },
  {
   "cell_type": "code",
   "execution_count": 9,
   "metadata": {
    "execution": {
     "iopub.execute_input": "2020-08-31T22:58:43.434019Z",
     "iopub.status.busy": "2020-08-31T22:58:43.432596Z",
     "iopub.status.idle": "2020-08-31T22:58:43.475667Z",
     "shell.execute_reply": "2020-08-31T22:58:43.474620Z"
    },
    "papermill": {
     "duration": 0.062727,
     "end_time": "2020-08-31T22:58:43.475836",
     "exception": false,
     "start_time": "2020-08-31T22:58:43.413109",
     "status": "completed"
    },
    "tags": []
   },
   "outputs": [],
   "source": [
    "write_csv(test_files, \"test_files.csv\")"
   ]
  },
  {
   "cell_type": "code",
   "execution_count": null,
   "metadata": {
    "papermill": {
     "duration": 0.014697,
     "end_time": "2020-08-31T22:58:43.505515",
     "exception": false,
     "start_time": "2020-08-31T22:58:43.490818",
     "status": "completed"
    },
    "tags": []
   },
   "outputs": [],
   "source": []
  },
  {
   "cell_type": "code",
   "execution_count": 10,
   "metadata": {
    "execution": {
     "iopub.execute_input": "2020-08-31T22:58:43.541088Z",
     "iopub.status.busy": "2020-08-31T22:58:43.539650Z",
     "iopub.status.idle": "2020-08-31T22:58:43.579043Z",
     "shell.execute_reply": "2020-08-31T22:58:43.577763Z"
    },
    "papermill": {
     "duration": 0.05872,
     "end_time": "2020-08-31T22:58:43.579230",
     "exception": false,
     "start_time": "2020-08-31T22:58:43.520510",
     "status": "completed"
    },
    "tags": []
   },
   "outputs": [
    {
     "data": {
      "text/html": [
       "<style>\n",
       ".list-inline {list-style: none; margin:0; padding: 0}\n",
       ".list-inline>li {display: inline-block}\n",
       ".list-inline>li:not(:last-child)::after {content: \"\\00b7\"; padding: 0 .5ex}\n",
       "</style>\n",
       "<ol class=list-inline><li>10345</li><li>2</li></ol>\n"
      ],
      "text/latex": [
       "\\begin{enumerate*}\n",
       "\\item 10345\n",
       "\\item 2\n",
       "\\end{enumerate*}\n"
      ],
      "text/markdown": [
       "1. 10345\n",
       "2. 2\n",
       "\n",
       "\n"
      ],
      "text/plain": [
       "[1] 10345     2"
      ]
     },
     "metadata": {},
     "output_type": "display_data"
    },
    {
     "data": {
      "text/html": [
       "<table class=\"dataframe\">\n",
       "<caption>A tibble: 6 × 2</caption>\n",
       "<thead>\n",
       "\t<tr><th scope=col>files</th><th scope=col>file_path</th></tr>\n",
       "\t<tr><th scope=col>&lt;chr&gt;</th><th scope=col>&lt;chr&gt;</th></tr>\n",
       "</thead>\n",
       "<tbody>\n",
       "\t<tr><td>00084cdf8f600d00</td><td>../input//landmark-recognition-2020/test//0/0/0/00084cdf8f600d00.jpg</td></tr>\n",
       "\t<tr><td>000b15b043eb8cf0</td><td>../input//landmark-recognition-2020/test//0/0/0/000b15b043eb8cf0.jpg</td></tr>\n",
       "\t<tr><td>0011a52f9b948fd2</td><td>../input//landmark-recognition-2020/test//0/0/1/0011a52f9b948fd2.jpg</td></tr>\n",
       "\t<tr><td>00141b8a5a729084</td><td>../input//landmark-recognition-2020/test//0/0/1/00141b8a5a729084.jpg</td></tr>\n",
       "\t<tr><td>0018aa4b92532b77</td><td>../input//landmark-recognition-2020/test//0/0/1/0018aa4b92532b77.jpg</td></tr>\n",
       "\t<tr><td>001baaaab791d8db</td><td>../input//landmark-recognition-2020/test//0/0/1/001baaaab791d8db.jpg</td></tr>\n",
       "</tbody>\n",
       "</table>\n"
      ],
      "text/latex": [
       "A tibble: 6 × 2\n",
       "\\begin{tabular}{ll}\n",
       " files & file\\_path\\\\\n",
       " <chr> & <chr>\\\\\n",
       "\\hline\n",
       "\t 00084cdf8f600d00 & ../input//landmark-recognition-2020/test//0/0/0/00084cdf8f600d00.jpg\\\\\n",
       "\t 000b15b043eb8cf0 & ../input//landmark-recognition-2020/test//0/0/0/000b15b043eb8cf0.jpg\\\\\n",
       "\t 0011a52f9b948fd2 & ../input//landmark-recognition-2020/test//0/0/1/0011a52f9b948fd2.jpg\\\\\n",
       "\t 00141b8a5a729084 & ../input//landmark-recognition-2020/test//0/0/1/00141b8a5a729084.jpg\\\\\n",
       "\t 0018aa4b92532b77 & ../input//landmark-recognition-2020/test//0/0/1/0018aa4b92532b77.jpg\\\\\n",
       "\t 001baaaab791d8db & ../input//landmark-recognition-2020/test//0/0/1/001baaaab791d8db.jpg\\\\\n",
       "\\end{tabular}\n"
      ],
      "text/markdown": [
       "\n",
       "A tibble: 6 × 2\n",
       "\n",
       "| files &lt;chr&gt; | file_path &lt;chr&gt; |\n",
       "|---|---|\n",
       "| 00084cdf8f600d00 | ../input//landmark-recognition-2020/test//0/0/0/00084cdf8f600d00.jpg |\n",
       "| 000b15b043eb8cf0 | ../input//landmark-recognition-2020/test//0/0/0/000b15b043eb8cf0.jpg |\n",
       "| 0011a52f9b948fd2 | ../input//landmark-recognition-2020/test//0/0/1/0011a52f9b948fd2.jpg |\n",
       "| 00141b8a5a729084 | ../input//landmark-recognition-2020/test//0/0/1/00141b8a5a729084.jpg |\n",
       "| 0018aa4b92532b77 | ../input//landmark-recognition-2020/test//0/0/1/0018aa4b92532b77.jpg |\n",
       "| 001baaaab791d8db | ../input//landmark-recognition-2020/test//0/0/1/001baaaab791d8db.jpg |\n",
       "\n"
      ],
      "text/plain": [
       "  files           \n",
       "1 00084cdf8f600d00\n",
       "2 000b15b043eb8cf0\n",
       "3 0011a52f9b948fd2\n",
       "4 00141b8a5a729084\n",
       "5 0018aa4b92532b77\n",
       "6 001baaaab791d8db\n",
       "  file_path                                                           \n",
       "1 ../input//landmark-recognition-2020/test//0/0/0/00084cdf8f600d00.jpg\n",
       "2 ../input//landmark-recognition-2020/test//0/0/0/000b15b043eb8cf0.jpg\n",
       "3 ../input//landmark-recognition-2020/test//0/0/1/0011a52f9b948fd2.jpg\n",
       "4 ../input//landmark-recognition-2020/test//0/0/1/00141b8a5a729084.jpg\n",
       "5 ../input//landmark-recognition-2020/test//0/0/1/0018aa4b92532b77.jpg\n",
       "6 ../input//landmark-recognition-2020/test//0/0/1/001baaaab791d8db.jpg"
      ]
     },
     "metadata": {},
     "output_type": "display_data"
    },
    {
     "data": {
      "text/html": [
       "<table class=\"dataframe\">\n",
       "<caption>A tibble: 6 × 2</caption>\n",
       "<thead>\n",
       "\t<tr><th scope=col>files</th><th scope=col>file_path</th></tr>\n",
       "\t<tr><th scope=col>&lt;chr&gt;</th><th scope=col>&lt;chr&gt;</th></tr>\n",
       "</thead>\n",
       "<tbody>\n",
       "\t<tr><td>ffc204cb59a7cc36</td><td>../input//landmark-recognition-2020/test//f/f/c/ffc204cb59a7cc36.jpg</td></tr>\n",
       "\t<tr><td>ffc41ddbcf63289b</td><td>../input//landmark-recognition-2020/test//f/f/c/ffc41ddbcf63289b.jpg</td></tr>\n",
       "\t<tr><td>ffd4c19b7732cbe9</td><td>../input//landmark-recognition-2020/test//f/f/d/ffd4c19b7732cbe9.jpg</td></tr>\n",
       "\t<tr><td>ffee2cac79a173d6</td><td>../input//landmark-recognition-2020/test//f/f/e/ffee2cac79a173d6.jpg</td></tr>\n",
       "\t<tr><td>ffef459d5dc6b981</td><td>../input//landmark-recognition-2020/test//f/f/e/ffef459d5dc6b981.jpg</td></tr>\n",
       "\t<tr><td>fff30527c712f754</td><td>../input//landmark-recognition-2020/test//f/f/f/fff30527c712f754.jpg</td></tr>\n",
       "</tbody>\n",
       "</table>\n"
      ],
      "text/latex": [
       "A tibble: 6 × 2\n",
       "\\begin{tabular}{ll}\n",
       " files & file\\_path\\\\\n",
       " <chr> & <chr>\\\\\n",
       "\\hline\n",
       "\t ffc204cb59a7cc36 & ../input//landmark-recognition-2020/test//f/f/c/ffc204cb59a7cc36.jpg\\\\\n",
       "\t ffc41ddbcf63289b & ../input//landmark-recognition-2020/test//f/f/c/ffc41ddbcf63289b.jpg\\\\\n",
       "\t ffd4c19b7732cbe9 & ../input//landmark-recognition-2020/test//f/f/d/ffd4c19b7732cbe9.jpg\\\\\n",
       "\t ffee2cac79a173d6 & ../input//landmark-recognition-2020/test//f/f/e/ffee2cac79a173d6.jpg\\\\\n",
       "\t ffef459d5dc6b981 & ../input//landmark-recognition-2020/test//f/f/e/ffef459d5dc6b981.jpg\\\\\n",
       "\t fff30527c712f754 & ../input//landmark-recognition-2020/test//f/f/f/fff30527c712f754.jpg\\\\\n",
       "\\end{tabular}\n"
      ],
      "text/markdown": [
       "\n",
       "A tibble: 6 × 2\n",
       "\n",
       "| files &lt;chr&gt; | file_path &lt;chr&gt; |\n",
       "|---|---|\n",
       "| ffc204cb59a7cc36 | ../input//landmark-recognition-2020/test//f/f/c/ffc204cb59a7cc36.jpg |\n",
       "| ffc41ddbcf63289b | ../input//landmark-recognition-2020/test//f/f/c/ffc41ddbcf63289b.jpg |\n",
       "| ffd4c19b7732cbe9 | ../input//landmark-recognition-2020/test//f/f/d/ffd4c19b7732cbe9.jpg |\n",
       "| ffee2cac79a173d6 | ../input//landmark-recognition-2020/test//f/f/e/ffee2cac79a173d6.jpg |\n",
       "| ffef459d5dc6b981 | ../input//landmark-recognition-2020/test//f/f/e/ffef459d5dc6b981.jpg |\n",
       "| fff30527c712f754 | ../input//landmark-recognition-2020/test//f/f/f/fff30527c712f754.jpg |\n",
       "\n"
      ],
      "text/plain": [
       "  files           \n",
       "1 ffc204cb59a7cc36\n",
       "2 ffc41ddbcf63289b\n",
       "3 ffd4c19b7732cbe9\n",
       "4 ffee2cac79a173d6\n",
       "5 ffef459d5dc6b981\n",
       "6 fff30527c712f754\n",
       "  file_path                                                           \n",
       "1 ../input//landmark-recognition-2020/test//f/f/c/ffc204cb59a7cc36.jpg\n",
       "2 ../input//landmark-recognition-2020/test//f/f/c/ffc41ddbcf63289b.jpg\n",
       "3 ../input//landmark-recognition-2020/test//f/f/d/ffd4c19b7732cbe9.jpg\n",
       "4 ../input//landmark-recognition-2020/test//f/f/e/ffee2cac79a173d6.jpg\n",
       "5 ../input//landmark-recognition-2020/test//f/f/e/ffef459d5dc6b981.jpg\n",
       "6 ../input//landmark-recognition-2020/test//f/f/f/fff30527c712f754.jpg"
      ]
     },
     "metadata": {},
     "output_type": "display_data"
    }
   ],
   "source": [
    "dim(test_files)\n",
    "head(test_files)\n",
    "tail(test_files)"
   ]
  },
  {
   "cell_type": "code",
   "execution_count": 11,
   "metadata": {
    "execution": {
     "iopub.execute_input": "2020-08-31T22:58:43.617211Z",
     "iopub.status.busy": "2020-08-31T22:58:43.615724Z",
     "iopub.status.idle": "2020-08-31T22:58:43.644057Z",
     "shell.execute_reply": "2020-08-31T22:58:43.642551Z"
    },
    "papermill": {
     "duration": 0.04941,
     "end_time": "2020-08-31T22:58:43.644252",
     "exception": false,
     "start_time": "2020-08-31T22:58:43.594842",
     "status": "completed"
    },
    "tags": []
   },
   "outputs": [],
   "source": [
    "train_files <-train_files %>% rename(id = \"files\")"
   ]
  },
  {
   "cell_type": "code",
   "execution_count": 12,
   "metadata": {
    "execution": {
     "iopub.execute_input": "2020-08-31T22:58:43.681710Z",
     "iopub.status.busy": "2020-08-31T22:58:43.680083Z",
     "iopub.status.idle": "2020-08-31T22:58:45.927095Z",
     "shell.execute_reply": "2020-08-31T22:58:45.925297Z"
    },
    "papermill": {
     "duration": 2.26738,
     "end_time": "2020-08-31T22:58:45.927384",
     "exception": false,
     "start_time": "2020-08-31T22:58:43.660004",
     "status": "completed"
    },
    "tags": []
   },
   "outputs": [
    {
     "data": {
      "text/html": [
       "<table class=\"dataframe\">\n",
       "<caption>A tibble: 6 × 3</caption>\n",
       "<thead>\n",
       "\t<tr><th scope=col>id</th><th scope=col>file_path</th><th scope=col>landmark_id</th></tr>\n",
       "\t<tr><th scope=col>&lt;chr&gt;</th><th scope=col>&lt;chr&gt;</th><th scope=col>&lt;dbl&gt;</th></tr>\n",
       "</thead>\n",
       "<tbody>\n",
       "\t<tr><td>0000059611c7d079</td><td>../input//landmark-recognition-2020/train//0/0/0/0000059611c7d079.jpg</td><td>107382</td></tr>\n",
       "\t<tr><td>000014b1f770f640</td><td>../input//landmark-recognition-2020/train//0/0/0/000014b1f770f640.jpg</td><td> 15430</td></tr>\n",
       "\t<tr><td>000015f76534add3</td><td>../input//landmark-recognition-2020/train//0/0/0/000015f76534add3.jpg</td><td>158262</td></tr>\n",
       "\t<tr><td>00001ae42cd00356</td><td>../input//landmark-recognition-2020/train//0/0/0/00001ae42cd00356.jpg</td><td>172552</td></tr>\n",
       "\t<tr><td>00001b2ba2c69ac5</td><td>../input//landmark-recognition-2020/train//0/0/0/00001b2ba2c69ac5.jpg</td><td> 91402</td></tr>\n",
       "\t<tr><td>000020dfc079c013</td><td>../input//landmark-recognition-2020/train//0/0/0/000020dfc079c013.jpg</td><td>117339</td></tr>\n",
       "</tbody>\n",
       "</table>\n"
      ],
      "text/latex": [
       "A tibble: 6 × 3\n",
       "\\begin{tabular}{lll}\n",
       " id & file\\_path & landmark\\_id\\\\\n",
       " <chr> & <chr> & <dbl>\\\\\n",
       "\\hline\n",
       "\t 0000059611c7d079 & ../input//landmark-recognition-2020/train//0/0/0/0000059611c7d079.jpg & 107382\\\\\n",
       "\t 000014b1f770f640 & ../input//landmark-recognition-2020/train//0/0/0/000014b1f770f640.jpg &  15430\\\\\n",
       "\t 000015f76534add3 & ../input//landmark-recognition-2020/train//0/0/0/000015f76534add3.jpg & 158262\\\\\n",
       "\t 00001ae42cd00356 & ../input//landmark-recognition-2020/train//0/0/0/00001ae42cd00356.jpg & 172552\\\\\n",
       "\t 00001b2ba2c69ac5 & ../input//landmark-recognition-2020/train//0/0/0/00001b2ba2c69ac5.jpg &  91402\\\\\n",
       "\t 000020dfc079c013 & ../input//landmark-recognition-2020/train//0/0/0/000020dfc079c013.jpg & 117339\\\\\n",
       "\\end{tabular}\n"
      ],
      "text/markdown": [
       "\n",
       "A tibble: 6 × 3\n",
       "\n",
       "| id &lt;chr&gt; | file_path &lt;chr&gt; | landmark_id &lt;dbl&gt; |\n",
       "|---|---|---|\n",
       "| 0000059611c7d079 | ../input//landmark-recognition-2020/train//0/0/0/0000059611c7d079.jpg | 107382 |\n",
       "| 000014b1f770f640 | ../input//landmark-recognition-2020/train//0/0/0/000014b1f770f640.jpg |  15430 |\n",
       "| 000015f76534add3 | ../input//landmark-recognition-2020/train//0/0/0/000015f76534add3.jpg | 158262 |\n",
       "| 00001ae42cd00356 | ../input//landmark-recognition-2020/train//0/0/0/00001ae42cd00356.jpg | 172552 |\n",
       "| 00001b2ba2c69ac5 | ../input//landmark-recognition-2020/train//0/0/0/00001b2ba2c69ac5.jpg |  91402 |\n",
       "| 000020dfc079c013 | ../input//landmark-recognition-2020/train//0/0/0/000020dfc079c013.jpg | 117339 |\n",
       "\n"
      ],
      "text/plain": [
       "  id              \n",
       "1 0000059611c7d079\n",
       "2 000014b1f770f640\n",
       "3 000015f76534add3\n",
       "4 00001ae42cd00356\n",
       "5 00001b2ba2c69ac5\n",
       "6 000020dfc079c013\n",
       "  file_path                                                            \n",
       "1 ../input//landmark-recognition-2020/train//0/0/0/0000059611c7d079.jpg\n",
       "2 ../input//landmark-recognition-2020/train//0/0/0/000014b1f770f640.jpg\n",
       "3 ../input//landmark-recognition-2020/train//0/0/0/000015f76534add3.jpg\n",
       "4 ../input//landmark-recognition-2020/train//0/0/0/00001ae42cd00356.jpg\n",
       "5 ../input//landmark-recognition-2020/train//0/0/0/00001b2ba2c69ac5.jpg\n",
       "6 ../input//landmark-recognition-2020/train//0/0/0/000020dfc079c013.jpg\n",
       "  landmark_id\n",
       "1 107382     \n",
       "2  15430     \n",
       "3 158262     \n",
       "4 172552     \n",
       "5  91402     \n",
       "6 117339     "
      ]
     },
     "metadata": {},
     "output_type": "display_data"
    },
    {
     "data": {
      "text/html": [
       "<style>\n",
       ".list-inline {list-style: none; margin:0; padding: 0}\n",
       ".list-inline>li {display: inline-block}\n",
       ".list-inline>li:not(:last-child)::after {content: \"\\00b7\"; padding: 0 .5ex}\n",
       "</style>\n",
       "<ol class=list-inline><li>1580470</li><li>3</li></ol>\n"
      ],
      "text/latex": [
       "\\begin{enumerate*}\n",
       "\\item 1580470\n",
       "\\item 3\n",
       "\\end{enumerate*}\n"
      ],
      "text/markdown": [
       "1. 1580470\n",
       "2. 3\n",
       "\n",
       "\n"
      ],
      "text/plain": [
       "[1] 1580470       3"
      ]
     },
     "metadata": {},
     "output_type": "display_data"
    }
   ],
   "source": [
    "trainLabeled <- left_join(x = train_files,y = data,by = \"id\")\n",
    "head(trainLabeled)\n",
    "dim(trainLabeled)"
   ]
  },
  {
   "cell_type": "code",
   "execution_count": null,
   "metadata": {
    "papermill": {
     "duration": 0.01619,
     "end_time": "2020-08-31T22:58:45.960815",
     "exception": false,
     "start_time": "2020-08-31T22:58:45.944625",
     "status": "completed"
    },
    "tags": []
   },
   "outputs": [],
   "source": []
  },
  {
   "cell_type": "code",
   "execution_count": 13,
   "metadata": {
    "execution": {
     "iopub.execute_input": "2020-08-31T22:58:46.000569Z",
     "iopub.status.busy": "2020-08-31T22:58:45.998987Z",
     "iopub.status.idle": "2020-08-31T22:58:51.606645Z",
     "shell.execute_reply": "2020-08-31T22:58:51.605051Z"
    },
    "papermill": {
     "duration": 5.629674,
     "end_time": "2020-08-31T22:58:51.606900",
     "exception": false,
     "start_time": "2020-08-31T22:58:45.977226",
     "status": "completed"
    },
    "tags": []
   },
   "outputs": [],
   "source": [
    "write_csv(trainLabeled, \"trainLabeled.csv\")"
   ]
  },
  {
   "cell_type": "code",
   "execution_count": null,
   "metadata": {
    "papermill": {
     "duration": 0.016312,
     "end_time": "2020-08-31T22:58:51.639606",
     "exception": false,
     "start_time": "2020-08-31T22:58:51.623294",
     "status": "completed"
    },
    "tags": []
   },
   "outputs": [],
   "source": []
  },
  {
   "cell_type": "code",
   "execution_count": 14,
   "metadata": {
    "execution": {
     "iopub.execute_input": "2020-08-31T22:58:51.677414Z",
     "iopub.status.busy": "2020-08-31T22:58:51.675913Z",
     "iopub.status.idle": "2020-08-31T22:58:51.690079Z",
     "shell.execute_reply": "2020-08-31T22:58:51.688600Z"
    },
    "papermill": {
     "duration": 0.034799,
     "end_time": "2020-08-31T22:58:51.690321",
     "exception": false,
     "start_time": "2020-08-31T22:58:51.655522",
     "status": "completed"
    },
    "tags": []
   },
   "outputs": [],
   "source": [
    "lower_limit_freq = 1000"
   ]
  },
  {
   "cell_type": "code",
   "execution_count": 15,
   "metadata": {
    "execution": {
     "iopub.execute_input": "2020-08-31T22:58:51.729009Z",
     "iopub.status.busy": "2020-08-31T22:58:51.727352Z",
     "iopub.status.idle": "2020-08-31T22:58:55.844414Z",
     "shell.execute_reply": "2020-08-31T22:58:55.842670Z"
    },
    "papermill": {
     "duration": 4.137938,
     "end_time": "2020-08-31T22:58:55.844669",
     "exception": false,
     "start_time": "2020-08-31T22:58:51.706731",
     "status": "completed"
    },
    "tags": []
   },
   "outputs": [],
   "source": [
    "trainLabeledSorted <- trainLabeled %>% \n",
    "group_by(landmark_id) %>% \n",
    "mutate(count_class = n()) %>% \n",
    "arrange(desc(count_class)) %>% \n",
    "filter(count_class>=lower_limit_freq)%>%ungroup()"
   ]
  },
  {
   "cell_type": "code",
   "execution_count": 16,
   "metadata": {
    "execution": {
     "iopub.execute_input": "2020-08-31T22:58:55.884791Z",
     "iopub.status.busy": "2020-08-31T22:58:55.882782Z",
     "iopub.status.idle": "2020-08-31T22:58:55.913822Z",
     "shell.execute_reply": "2020-08-31T22:58:55.912016Z"
    },
    "papermill": {
     "duration": 0.05227,
     "end_time": "2020-08-31T22:58:55.914002",
     "exception": false,
     "start_time": "2020-08-31T22:58:55.861732",
     "status": "completed"
    },
    "tags": []
   },
   "outputs": [
    {
     "data": {
      "text/html": [
       "<table class=\"dataframe\">\n",
       "<caption>A tibble: 6 × 4</caption>\n",
       "<thead>\n",
       "\t<tr><th scope=col>id</th><th scope=col>file_path</th><th scope=col>landmark_id</th><th scope=col>count_class</th></tr>\n",
       "\t<tr><th scope=col>&lt;chr&gt;</th><th scope=col>&lt;chr&gt;</th><th scope=col>&lt;dbl&gt;</th><th scope=col>&lt;int&gt;</th></tr>\n",
       "</thead>\n",
       "<tbody>\n",
       "\t<tr><td>0006f34cf361f69c</td><td>../input//landmark-recognition-2020/train//0/0/0/0006f34cf361f69c.jpg</td><td>138982</td><td>6272</td></tr>\n",
       "\t<tr><td>0010089264bb0573</td><td>../input//landmark-recognition-2020/train//0/0/1/0010089264bb0573.jpg</td><td>138982</td><td>6272</td></tr>\n",
       "\t<tr><td>001734558e2fde76</td><td>../input//landmark-recognition-2020/train//0/0/1/001734558e2fde76.jpg</td><td>138982</td><td>6272</td></tr>\n",
       "\t<tr><td>002f0924a58dfc46</td><td>../input//landmark-recognition-2020/train//0/0/2/002f0924a58dfc46.jpg</td><td>138982</td><td>6272</td></tr>\n",
       "\t<tr><td>002ffa2d61d4190f</td><td>../input//landmark-recognition-2020/train//0/0/2/002ffa2d61d4190f.jpg</td><td>138982</td><td>6272</td></tr>\n",
       "\t<tr><td>0037c9c09a4cd42c</td><td>../input//landmark-recognition-2020/train//0/0/3/0037c9c09a4cd42c.jpg</td><td>138982</td><td>6272</td></tr>\n",
       "</tbody>\n",
       "</table>\n"
      ],
      "text/latex": [
       "A tibble: 6 × 4\n",
       "\\begin{tabular}{llll}\n",
       " id & file\\_path & landmark\\_id & count\\_class\\\\\n",
       " <chr> & <chr> & <dbl> & <int>\\\\\n",
       "\\hline\n",
       "\t 0006f34cf361f69c & ../input//landmark-recognition-2020/train//0/0/0/0006f34cf361f69c.jpg & 138982 & 6272\\\\\n",
       "\t 0010089264bb0573 & ../input//landmark-recognition-2020/train//0/0/1/0010089264bb0573.jpg & 138982 & 6272\\\\\n",
       "\t 001734558e2fde76 & ../input//landmark-recognition-2020/train//0/0/1/001734558e2fde76.jpg & 138982 & 6272\\\\\n",
       "\t 002f0924a58dfc46 & ../input//landmark-recognition-2020/train//0/0/2/002f0924a58dfc46.jpg & 138982 & 6272\\\\\n",
       "\t 002ffa2d61d4190f & ../input//landmark-recognition-2020/train//0/0/2/002ffa2d61d4190f.jpg & 138982 & 6272\\\\\n",
       "\t 0037c9c09a4cd42c & ../input//landmark-recognition-2020/train//0/0/3/0037c9c09a4cd42c.jpg & 138982 & 6272\\\\\n",
       "\\end{tabular}\n"
      ],
      "text/markdown": [
       "\n",
       "A tibble: 6 × 4\n",
       "\n",
       "| id &lt;chr&gt; | file_path &lt;chr&gt; | landmark_id &lt;dbl&gt; | count_class &lt;int&gt; |\n",
       "|---|---|---|---|\n",
       "| 0006f34cf361f69c | ../input//landmark-recognition-2020/train//0/0/0/0006f34cf361f69c.jpg | 138982 | 6272 |\n",
       "| 0010089264bb0573 | ../input//landmark-recognition-2020/train//0/0/1/0010089264bb0573.jpg | 138982 | 6272 |\n",
       "| 001734558e2fde76 | ../input//landmark-recognition-2020/train//0/0/1/001734558e2fde76.jpg | 138982 | 6272 |\n",
       "| 002f0924a58dfc46 | ../input//landmark-recognition-2020/train//0/0/2/002f0924a58dfc46.jpg | 138982 | 6272 |\n",
       "| 002ffa2d61d4190f | ../input//landmark-recognition-2020/train//0/0/2/002ffa2d61d4190f.jpg | 138982 | 6272 |\n",
       "| 0037c9c09a4cd42c | ../input//landmark-recognition-2020/train//0/0/3/0037c9c09a4cd42c.jpg | 138982 | 6272 |\n",
       "\n"
      ],
      "text/plain": [
       "  id              \n",
       "1 0006f34cf361f69c\n",
       "2 0010089264bb0573\n",
       "3 001734558e2fde76\n",
       "4 002f0924a58dfc46\n",
       "5 002ffa2d61d4190f\n",
       "6 0037c9c09a4cd42c\n",
       "  file_path                                                            \n",
       "1 ../input//landmark-recognition-2020/train//0/0/0/0006f34cf361f69c.jpg\n",
       "2 ../input//landmark-recognition-2020/train//0/0/1/0010089264bb0573.jpg\n",
       "3 ../input//landmark-recognition-2020/train//0/0/1/001734558e2fde76.jpg\n",
       "4 ../input//landmark-recognition-2020/train//0/0/2/002f0924a58dfc46.jpg\n",
       "5 ../input//landmark-recognition-2020/train//0/0/2/002ffa2d61d4190f.jpg\n",
       "6 ../input//landmark-recognition-2020/train//0/0/3/0037c9c09a4cd42c.jpg\n",
       "  landmark_id count_class\n",
       "1 138982      6272       \n",
       "2 138982      6272       \n",
       "3 138982      6272       \n",
       "4 138982      6272       \n",
       "5 138982      6272       \n",
       "6 138982      6272       "
      ]
     },
     "metadata": {},
     "output_type": "display_data"
    },
    {
     "data": {
      "text/html": [
       "<style>\n",
       ".list-inline {list-style: none; margin:0; padding: 0}\n",
       ".list-inline>li {display: inline-block}\n",
       ".list-inline>li:not(:last-child)::after {content: \"\\00b7\"; padding: 0 .5ex}\n",
       "</style>\n",
       "<ol class=list-inline><li>15298</li><li>4</li></ol>\n"
      ],
      "text/latex": [
       "\\begin{enumerate*}\n",
       "\\item 15298\n",
       "\\item 4\n",
       "\\end{enumerate*}\n"
      ],
      "text/markdown": [
       "1. 15298\n",
       "2. 4\n",
       "\n",
       "\n"
      ],
      "text/plain": [
       "[1] 15298     4"
      ]
     },
     "metadata": {},
     "output_type": "display_data"
    }
   ],
   "source": [
    "head(trainLabeledSorted)\n",
    "dim(trainLabeledSorted)"
   ]
  },
  {
   "cell_type": "code",
   "execution_count": 17,
   "metadata": {
    "execution": {
     "iopub.execute_input": "2020-08-31T22:58:55.954748Z",
     "iopub.status.busy": "2020-08-31T22:58:55.953017Z",
     "iopub.status.idle": "2020-08-31T22:58:55.980009Z",
     "shell.execute_reply": "2020-08-31T22:58:55.978275Z"
    },
    "papermill": {
     "duration": 0.048424,
     "end_time": "2020-08-31T22:58:55.980304",
     "exception": false,
     "start_time": "2020-08-31T22:58:55.931880",
     "status": "completed"
    },
    "tags": []
   },
   "outputs": [
    {
     "data": {
      "text/html": [
       "15298"
      ],
      "text/latex": [
       "15298"
      ],
      "text/markdown": [
       "15298"
      ],
      "text/plain": [
       "[1] 15298"
      ]
     },
     "metadata": {},
     "output_type": "display_data"
    },
    {
     "data": {
      "text/html": [
       "11767"
      ],
      "text/latex": [
       "11767"
      ],
      "text/markdown": [
       "11767"
      ],
      "text/plain": [
       "[1] 11767"
      ]
     },
     "metadata": {},
     "output_type": "display_data"
    }
   ],
   "source": [
    "dim(trainLabeledSorted)[1]\n",
    "dim(trainLabeledSorted)[1] %/% 1.3\n"
   ]
  },
  {
   "cell_type": "code",
   "execution_count": 18,
   "metadata": {
    "execution": {
     "iopub.execute_input": "2020-08-31T22:58:56.024312Z",
     "iopub.status.busy": "2020-08-31T22:58:56.022346Z",
     "iopub.status.idle": "2020-08-31T22:58:56.088482Z",
     "shell.execute_reply": "2020-08-31T22:58:56.086996Z"
    },
    "papermill": {
     "duration": 0.088416,
     "end_time": "2020-08-31T22:58:56.088947",
     "exception": false,
     "start_time": "2020-08-31T22:58:56.000531",
     "status": "completed"
    },
    "tags": []
   },
   "outputs": [],
   "source": [
    "write_csv(trainLabeledSorted,\"trainLabeledSorted.csv\")"
   ]
  },
  {
   "cell_type": "code",
   "execution_count": 19,
   "metadata": {
    "execution": {
     "iopub.execute_input": "2020-08-31T22:58:56.131488Z",
     "iopub.status.busy": "2020-08-31T22:58:56.129907Z",
     "iopub.status.idle": "2020-08-31T22:58:56.141995Z",
     "shell.execute_reply": "2020-08-31T22:58:56.140755Z"
    },
    "papermill": {
     "duration": 0.034025,
     "end_time": "2020-08-31T22:58:56.142174",
     "exception": false,
     "start_time": "2020-08-31T22:58:56.108149",
     "status": "completed"
    },
    "tags": []
   },
   "outputs": [],
   "source": [
    "#trainLabeledSorted <- trainLabeled"
   ]
  },
  {
   "cell_type": "code",
   "execution_count": 20,
   "metadata": {
    "execution": {
     "iopub.execute_input": "2020-08-31T22:58:56.182807Z",
     "iopub.status.busy": "2020-08-31T22:58:56.181401Z",
     "iopub.status.idle": "2020-08-31T22:58:56.198630Z",
     "shell.execute_reply": "2020-08-31T22:58:56.197448Z"
    },
    "papermill": {
     "duration": 0.039094,
     "end_time": "2020-08-31T22:58:56.198811",
     "exception": false,
     "start_time": "2020-08-31T22:58:56.159717",
     "status": "completed"
    },
    "tags": []
   },
   "outputs": [],
   "source": [
    "batch_size <- 64\n",
    "sample_size = dim(trainLabeledSorted)[1]\n",
    "#sample_size = 100000\n",
    "train_size_portion = 0.7"
   ]
  },
  {
   "cell_type": "code",
   "execution_count": 21,
   "metadata": {
    "execution": {
     "iopub.execute_input": "2020-08-31T22:58:56.239280Z",
     "iopub.status.busy": "2020-08-31T22:58:56.237954Z",
     "iopub.status.idle": "2020-08-31T22:58:56.256382Z",
     "shell.execute_reply": "2020-08-31T22:58:56.255051Z"
    },
    "papermill": {
     "duration": 0.040059,
     "end_time": "2020-08-31T22:58:56.256545",
     "exception": false,
     "start_time": "2020-08-31T22:58:56.216486",
     "status": "completed"
    },
    "tags": []
   },
   "outputs": [
    {
     "name": "stdout",
     "output_type": "stream",
     "text": [
      "train size is.. 11712 and  183 batches"
     ]
    }
   ],
   "source": [
    "#train size\n",
    "x=(dim(trainLabeledSorted)[1] %/% (1+(1-train_size_portion)))/batch_size\n",
    "train_size=(round(x)-1)*batch_size\n",
    "cat(\"train size is..\",train_size, \"and \",train_size/batch_size, \"batches\")"
   ]
  },
  {
   "cell_type": "code",
   "execution_count": 22,
   "metadata": {
    "execution": {
     "iopub.execute_input": "2020-08-31T22:58:56.297997Z",
     "iopub.status.busy": "2020-08-31T22:58:56.296555Z",
     "iopub.status.idle": "2020-08-31T22:58:56.308375Z",
     "shell.execute_reply": "2020-08-31T22:58:56.307173Z"
    },
    "papermill": {
     "duration": 0.03414,
     "end_time": "2020-08-31T22:58:56.308546",
     "exception": false,
     "start_time": "2020-08-31T22:58:56.274406",
     "status": "completed"
    },
    "tags": []
   },
   "outputs": [],
   "source": [
    "#x=(sample_size*train_size_portion) %/% batch_size\n",
    "#train_size =(round(x)-1)*batch_size\n",
    "#cat(\"train size is..\",train_size, \"and \",train_size/batch_size, \"batches\")"
   ]
  },
  {
   "cell_type": "code",
   "execution_count": 23,
   "metadata": {
    "execution": {
     "iopub.execute_input": "2020-08-31T22:58:56.350493Z",
     "iopub.status.busy": "2020-08-31T22:58:56.349006Z",
     "iopub.status.idle": "2020-08-31T22:58:56.369465Z",
     "shell.execute_reply": "2020-08-31T22:58:56.367316Z"
    },
    "papermill": {
     "duration": 0.043196,
     "end_time": "2020-08-31T22:58:56.369673",
     "exception": false,
     "start_time": "2020-08-31T22:58:56.326477",
     "status": "completed"
    },
    "tags": []
   },
   "outputs": [
    {
     "name": "stdout",
     "output_type": "stream",
     "text": [
      " validation size is.. 3520 and 55 batches \n"
     ]
    }
   ],
   "source": [
    "x=(sample_size-train_size) %/% batch_size\n",
    "validation_size=(round(x)-1)*batch_size\n",
    "cat(\" validation size is..\",validation_size, \"and\",validation_size/batch_size, \"batches\",\"\\n\")\n"
   ]
  },
  {
   "cell_type": "code",
   "execution_count": 24,
   "metadata": {
    "execution": {
     "iopub.execute_input": "2020-08-31T22:58:56.411637Z",
     "iopub.status.busy": "2020-08-31T22:58:56.409719Z",
     "iopub.status.idle": "2020-08-31T22:58:56.426176Z",
     "shell.execute_reply": "2020-08-31T22:58:56.424663Z"
    },
    "papermill": {
     "duration": 0.038685,
     "end_time": "2020-08-31T22:58:56.426426",
     "exception": false,
     "start_time": "2020-08-31T22:58:56.387741",
     "status": "completed"
    },
    "tags": []
   },
   "outputs": [
    {
     "name": "stdout",
     "output_type": "stream",
     "text": [
      " sample: 15298 \n",
      " train and validation: 15232 \n",
      " difference is: 66"
     ]
    }
   ],
   "source": [
    "cat(\" sample:\",sample_size, \"\\n\",\"train and validation:\", train_size+validation_size,\"\\n\",\n",
    "    \"difference is:\",\n",
    "    (sample_size-train_size-validation_size))"
   ]
  },
  {
   "cell_type": "code",
   "execution_count": 25,
   "metadata": {
    "execution": {
     "iopub.execute_input": "2020-08-31T22:58:56.468410Z",
     "iopub.status.busy": "2020-08-31T22:58:56.466802Z",
     "iopub.status.idle": "2020-08-31T22:58:56.486378Z",
     "shell.execute_reply": "2020-08-31T22:58:56.485220Z"
    },
    "papermill": {
     "duration": 0.042014,
     "end_time": "2020-08-31T22:58:56.486542",
     "exception": false,
     "start_time": "2020-08-31T22:58:56.444528",
     "status": "completed"
    },
    "tags": []
   },
   "outputs": [],
   "source": [
    "indices <- sample(1:nrow(trainLabeledSorted))\n",
    "\n",
    "training_indices <- indices[1:train_size]\n",
    "validation_indices <- indices[(train_size+1):(train_size+validation_size)]\n",
    "#test_indices <- indices[(training_size+validation_size+1):(training_size+validation_size+test_size)]"
   ]
  },
  {
   "cell_type": "code",
   "execution_count": 26,
   "metadata": {
    "execution": {
     "iopub.execute_input": "2020-08-31T22:58:56.528437Z",
     "iopub.status.busy": "2020-08-31T22:58:56.526969Z",
     "iopub.status.idle": "2020-08-31T22:58:56.548290Z",
     "shell.execute_reply": "2020-08-31T22:58:56.546609Z"
    },
    "papermill": {
     "duration": 0.043897,
     "end_time": "2020-08-31T22:58:56.548520",
     "exception": false,
     "start_time": "2020-08-31T22:58:56.504623",
     "status": "completed"
    },
    "tags": []
   },
   "outputs": [
    {
     "data": {
      "text/html": [
       "11712"
      ],
      "text/latex": [
       "11712"
      ],
      "text/markdown": [
       "11712"
      ],
      "text/plain": [
       "[1] 11712"
      ]
     },
     "metadata": {},
     "output_type": "display_data"
    },
    {
     "data": {
      "text/html": [
       "3520"
      ],
      "text/latex": [
       "3520"
      ],
      "text/markdown": [
       "3520"
      ],
      "text/plain": [
       "[1] 3520"
      ]
     },
     "metadata": {},
     "output_type": "display_data"
    }
   ],
   "source": [
    "length(training_indices)\n",
    "length(validation_indices)"
   ]
  },
  {
   "cell_type": "code",
   "execution_count": 27,
   "metadata": {
    "execution": {
     "iopub.execute_input": "2020-08-31T22:58:56.604876Z",
     "iopub.status.busy": "2020-08-31T22:58:56.603075Z",
     "iopub.status.idle": "2020-08-31T22:58:56.619744Z",
     "shell.execute_reply": "2020-08-31T22:58:56.618594Z"
    },
    "papermill": {
     "duration": 0.045917,
     "end_time": "2020-08-31T22:58:56.619924",
     "exception": false,
     "start_time": "2020-08-31T22:58:56.574007",
     "status": "completed"
    },
    "tags": []
   },
   "outputs": [],
   "source": [
    "train_dataframe <- trainLabeledSorted[training_indices,]\n",
    "train_dataframe$landmark_id <- as.character(train_dataframe$landmark_id)"
   ]
  },
  {
   "cell_type": "code",
   "execution_count": 28,
   "metadata": {
    "execution": {
     "iopub.execute_input": "2020-08-31T22:58:56.664095Z",
     "iopub.status.busy": "2020-08-31T22:58:56.662781Z",
     "iopub.status.idle": "2020-08-31T22:58:56.735740Z",
     "shell.execute_reply": "2020-08-31T22:58:56.734378Z"
    },
    "papermill": {
     "duration": 0.09655,
     "end_time": "2020-08-31T22:58:56.735939",
     "exception": false,
     "start_time": "2020-08-31T22:58:56.639389",
     "status": "completed"
    },
    "tags": []
   },
   "outputs": [],
   "source": [
    "write_csv(train_dataframe,\"train_dataframe.csv\")"
   ]
  },
  {
   "cell_type": "code",
   "execution_count": 29,
   "metadata": {
    "execution": {
     "iopub.execute_input": "2020-08-31T22:58:56.781827Z",
     "iopub.status.busy": "2020-08-31T22:58:56.779844Z",
     "iopub.status.idle": "2020-08-31T22:58:56.801103Z",
     "shell.execute_reply": "2020-08-31T22:58:56.799515Z"
    },
    "papermill": {
     "duration": 0.045749,
     "end_time": "2020-08-31T22:58:56.801314",
     "exception": false,
     "start_time": "2020-08-31T22:58:56.755565",
     "status": "completed"
    },
    "tags": []
   },
   "outputs": [
    {
     "data": {
      "text/html": [
       "7"
      ],
      "text/latex": [
       "7"
      ],
      "text/markdown": [
       "7"
      ],
      "text/plain": [
       "[1] 7"
      ]
     },
     "metadata": {},
     "output_type": "display_data"
    }
   ],
   "source": [
    "output<-length(unique(x = train_dataframe$landmark_id))\n",
    "output"
   ]
  },
  {
   "cell_type": "code",
   "execution_count": 30,
   "metadata": {
    "execution": {
     "iopub.execute_input": "2020-08-31T22:58:56.845108Z",
     "iopub.status.busy": "2020-08-31T22:58:56.843242Z",
     "iopub.status.idle": "2020-08-31T22:58:56.860267Z",
     "shell.execute_reply": "2020-08-31T22:58:56.858777Z"
    },
    "papermill": {
     "duration": 0.040291,
     "end_time": "2020-08-31T22:58:56.860439",
     "exception": false,
     "start_time": "2020-08-31T22:58:56.820148",
     "status": "completed"
    },
    "tags": []
   },
   "outputs": [],
   "source": [
    "val_dataframe <- trainLabeledSorted[validation_indices,]\n",
    "val_dataframe$landmark_id <- as.character(val_dataframe$landmark_id)"
   ]
  },
  {
   "cell_type": "code",
   "execution_count": 31,
   "metadata": {
    "execution": {
     "iopub.execute_input": "2020-08-31T22:58:56.903802Z",
     "iopub.status.busy": "2020-08-31T22:58:56.901749Z",
     "iopub.status.idle": "2020-08-31T22:58:56.934854Z",
     "shell.execute_reply": "2020-08-31T22:58:56.933379Z"
    },
    "papermill": {
     "duration": 0.055999,
     "end_time": "2020-08-31T22:58:56.935089",
     "exception": false,
     "start_time": "2020-08-31T22:58:56.879090",
     "status": "completed"
    },
    "tags": []
   },
   "outputs": [],
   "source": [
    "write_csv(val_dataframe, \"val_dataframe.csv\")"
   ]
  },
  {
   "cell_type": "code",
   "execution_count": 32,
   "metadata": {
    "execution": {
     "iopub.execute_input": "2020-08-31T22:58:56.979827Z",
     "iopub.status.busy": "2020-08-31T22:58:56.977772Z",
     "iopub.status.idle": "2020-08-31T22:58:57.000258Z",
     "shell.execute_reply": "2020-08-31T22:58:56.998299Z"
    },
    "papermill": {
     "duration": 0.046319,
     "end_time": "2020-08-31T22:58:57.000463",
     "exception": false,
     "start_time": "2020-08-31T22:58:56.954144",
     "status": "completed"
    },
    "tags": []
   },
   "outputs": [
    {
     "data": {
      "text/html": [
       "7"
      ],
      "text/latex": [
       "7"
      ],
      "text/markdown": [
       "7"
      ],
      "text/plain": [
       "[1] 7"
      ]
     },
     "metadata": {},
     "output_type": "display_data"
    }
   ],
   "source": [
    "nrow(distinct(val_dataframe, landmark_id))"
   ]
  },
  {
   "cell_type": "code",
   "execution_count": null,
   "metadata": {
    "papermill": {
     "duration": 0.019542,
     "end_time": "2020-08-31T22:58:57.039834",
     "exception": false,
     "start_time": "2020-08-31T22:58:57.020292",
     "status": "completed"
    },
    "tags": []
   },
   "outputs": [],
   "source": []
  }
 ],
 "metadata": {
  "kernelspec": {
   "display_name": "R",
   "language": "R",
   "name": "ir"
  },
  "language_info": {
   "codemirror_mode": "r",
   "file_extension": ".r",
   "mimetype": "text/x-r-source",
   "name": "R",
   "pygments_lexer": "r",
   "version": "3.6.3"
  },
  "papermill": {
   "duration": 1013.792299,
   "end_time": "2020-08-31T22:58:58.083005",
   "environment_variables": {},
   "exception": null,
   "input_path": "__notebook__.ipynb",
   "output_path": "__notebook__.ipynb",
   "parameters": {},
   "start_time": "2020-08-31T22:42:04.290706",
   "version": "2.1.2"
  }
 },
 "nbformat": 4,
 "nbformat_minor": 4
}
