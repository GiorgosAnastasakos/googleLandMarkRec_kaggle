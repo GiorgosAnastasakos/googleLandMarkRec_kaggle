{
 "cells": [
  {
   "cell_type": "code",
   "execution_count": 1,
   "metadata": {
    "_execution_state": "idle",
    "_uuid": "051d70d956493feee0c6d64651c6a088724dca2a",
    "execution": {
     "iopub.execute_input": "2020-09-02T12:25:52.013427Z",
     "iopub.status.busy": "2020-09-02T12:25:52.011282Z",
     "iopub.status.idle": "2020-09-02T12:25:55.047887Z",
     "shell.execute_reply": "2020-09-02T12:25:55.046210Z"
    },
    "papermill": {
     "duration": 3.090775,
     "end_time": "2020-09-02T12:25:55.048174",
     "exception": false,
     "start_time": "2020-09-02T12:25:51.957399",
     "status": "completed"
    },
    "tags": []
   },
   "outputs": [
    {
     "name": "stderr",
     "output_type": "stream",
     "text": [
      "── \u001b[1mAttaching packages\u001b[22m ─────────────────────────────────────── tidyverse 1.3.0 ──\n",
      "\n",
      "\u001b[32m✔\u001b[39m \u001b[34mggplot2\u001b[39m 3.3.2.\u001b[31m9000\u001b[39m     \u001b[32m✔\u001b[39m \u001b[34mpurrr  \u001b[39m 0.3.4     \n",
      "\u001b[32m✔\u001b[39m \u001b[34mtibble \u001b[39m 3.0.3          \u001b[32m✔\u001b[39m \u001b[34mdplyr  \u001b[39m 1.0.1     \n",
      "\u001b[32m✔\u001b[39m \u001b[34mtidyr  \u001b[39m 1.1.1          \u001b[32m✔\u001b[39m \u001b[34mstringr\u001b[39m 1.4.0     \n",
      "\u001b[32m✔\u001b[39m \u001b[34mreadr  \u001b[39m 1.3.1          \u001b[32m✔\u001b[39m \u001b[34mforcats\u001b[39m 0.5.0     \n",
      "\n",
      "── \u001b[1mConflicts\u001b[22m ────────────────────────────────────────── tidyverse_conflicts() ──\n",
      "\u001b[31m✖\u001b[39m \u001b[34mdplyr\u001b[39m::\u001b[32mfilter()\u001b[39m masks \u001b[34mstats\u001b[39m::filter()\n",
      "\u001b[31m✖\u001b[39m \u001b[34mdplyr\u001b[39m::\u001b[32mlag()\u001b[39m    masks \u001b[34mstats\u001b[39m::lag()\n",
      "\n"
     ]
    }
   ],
   "source": [
    "library(tidyverse)\n",
    "library(keras)"
   ]
  },
  {
   "cell_type": "code",
   "execution_count": 2,
   "metadata": {
    "execution": {
     "iopub.execute_input": "2020-09-02T12:25:55.139318Z",
     "iopub.status.busy": "2020-09-02T12:25:55.096268Z",
     "iopub.status.idle": "2020-09-02T12:25:55.316833Z",
     "shell.execute_reply": "2020-09-02T12:25:55.315195Z"
    },
    "papermill": {
     "duration": 0.246483,
     "end_time": "2020-09-02T12:25:55.316998",
     "exception": false,
     "start_time": "2020-09-02T12:25:55.070515",
     "status": "completed"
    },
    "tags": []
   },
   "outputs": [
    {
     "name": "stderr",
     "output_type": "stream",
     "text": [
      "Parsed with column specification:\n",
      "cols(\n",
      "  id = \u001b[31mcol_character()\u001b[39m,\n",
      "  landmarks = \u001b[31mcol_character()\u001b[39m\n",
      ")\n",
      "\n"
     ]
    }
   ],
   "source": [
    "submision_sample <- read_csv(\"/kaggle//input//landmark-recognition-2020//sample_submission.csv\")"
   ]
  },
  {
   "cell_type": "code",
   "execution_count": 3,
   "metadata": {
    "execution": {
     "iopub.execute_input": "2020-09-02T12:25:55.368031Z",
     "iopub.status.busy": "2020-09-02T12:25:55.366261Z",
     "iopub.status.idle": "2020-09-02T12:26:00.099516Z",
     "shell.execute_reply": "2020-09-02T12:26:00.098364Z"
    },
    "papermill": {
     "duration": 4.760753,
     "end_time": "2020-09-02T12:26:00.099757",
     "exception": false,
     "start_time": "2020-09-02T12:25:55.339004",
     "status": "completed"
    },
    "tags": []
   },
   "outputs": [
    {
     "name": "stderr",
     "output_type": "stream",
     "text": [
      "Parsed with column specification:\n",
      "cols(\n",
      "  id = \u001b[31mcol_character()\u001b[39m,\n",
      "  file_path = \u001b[31mcol_character()\u001b[39m,\n",
      "  landmark_id = \u001b[32mcol_double()\u001b[39m,\n",
      "  count_class = \u001b[32mcol_double()\u001b[39m\n",
      ")\n",
      "\n"
     ]
    }
   ],
   "source": [
    "# Train\n",
    "train_dataframe <- read_csv(\"/kaggle//input//1-read-landmark-recognition-train-test-validation/train_dataframe.csv\")\n",
    "train <- readRDS(file = \"/kaggle/input/train-generator/train.Rds\")\n"
   ]
  },
  {
   "cell_type": "code",
   "execution_count": 4,
   "metadata": {
    "execution": {
     "iopub.execute_input": "2020-09-02T12:26:00.150552Z",
     "iopub.status.busy": "2020-09-02T12:26:00.149256Z",
     "iopub.status.idle": "2020-09-02T12:26:01.745878Z",
     "shell.execute_reply": "2020-09-02T12:26:01.744406Z"
    },
    "papermill": {
     "duration": 1.6234,
     "end_time": "2020-09-02T12:26:01.746093",
     "exception": false,
     "start_time": "2020-09-02T12:26:00.122693",
     "status": "completed"
    },
    "tags": []
   },
   "outputs": [
    {
     "name": "stderr",
     "output_type": "stream",
     "text": [
      "Parsed with column specification:\n",
      "cols(\n",
      "  id = \u001b[31mcol_character()\u001b[39m,\n",
      "  file_path = \u001b[31mcol_character()\u001b[39m,\n",
      "  landmark_id = \u001b[32mcol_double()\u001b[39m,\n",
      "  count_class = \u001b[32mcol_double()\u001b[39m\n",
      ")\n",
      "\n"
     ]
    }
   ],
   "source": [
    "val_dataframe <- read_csv(\"/kaggle//input/1-read-landmark-recognition-train-test-validation/val_dataframe.csv\")\n",
    "validation <- readRDS(file = \"/kaggle//input//validation-generator//validation.Rds\")"
   ]
  },
  {
   "cell_type": "code",
   "execution_count": 5,
   "metadata": {
    "execution": {
     "iopub.execute_input": "2020-09-02T12:26:01.797546Z",
     "iopub.status.busy": "2020-09-02T12:26:01.795859Z",
     "iopub.status.idle": "2020-09-02T12:26:01.816708Z",
     "shell.execute_reply": "2020-09-02T12:26:01.814948Z"
    },
    "papermill": {
     "duration": 0.047799,
     "end_time": "2020-09-02T12:26:01.816869",
     "exception": false,
     "start_time": "2020-09-02T12:26:01.769070",
     "status": "completed"
    },
    "tags": []
   },
   "outputs": [
    {
     "data": {
      "text/html": [
       "7"
      ],
      "text/latex": [
       "7"
      ],
      "text/markdown": [
       "7"
      ],
      "text/plain": [
       "[1] 7"
      ]
     },
     "metadata": {},
     "output_type": "display_data"
    }
   ],
   "source": [
    "output=length(unique(train_dataframe$landmark_id))\n",
    "output"
   ]
  },
  {
   "cell_type": "code",
   "execution_count": 6,
   "metadata": {
    "execution": {
     "iopub.execute_input": "2020-09-02T12:26:01.870779Z",
     "iopub.status.busy": "2020-09-02T12:26:01.869182Z",
     "iopub.status.idle": "2020-09-02T12:26:09.307656Z",
     "shell.execute_reply": "2020-09-02T12:26:09.305790Z"
    },
    "papermill": {
     "duration": 7.46665,
     "end_time": "2020-09-02T12:26:09.307931",
     "exception": false,
     "start_time": "2020-09-02T12:26:01.841281",
     "status": "completed"
    },
    "tags": []
   },
   "outputs": [],
   "source": [
    "# model\n",
    "model <- keras_model_sequential() %>%\n",
    "layer_dense(units = 256, activation = \"relu\", input_shape = 4 * 4 * 512) %>%\n",
    "layer_dropout(rate = 0.5) %>%\n",
    "layer_dense(units = 256, activation = \"relu\") %>%\n",
    "layer_dropout(rate = 0.5) %>%\n",
    "layer_dense(units = output, activation = \"softmax\")"
   ]
  },
  {
   "cell_type": "code",
   "execution_count": 7,
   "metadata": {
    "execution": {
     "iopub.execute_input": "2020-09-02T12:26:09.363463Z",
     "iopub.status.busy": "2020-09-02T12:26:09.361472Z",
     "iopub.status.idle": "2020-09-02T12:26:09.384393Z",
     "shell.execute_reply": "2020-09-02T12:26:09.382901Z"
    },
    "papermill": {
     "duration": 0.051569,
     "end_time": "2020-09-02T12:26:09.384556",
     "exception": false,
     "start_time": "2020-09-02T12:26:09.332987",
     "status": "completed"
    },
    "tags": []
   },
   "outputs": [
    {
     "data": {
      "text/plain": [
       "Model\n",
       "Model: \"sequential\"\n",
       "________________________________________________________________________________\n",
       "Layer (type)                        Output Shape                    Param #     \n",
       "================================================================================\n",
       "dense (Dense)                       (None, 256)                     2097408     \n",
       "________________________________________________________________________________\n",
       "dropout (Dropout)                   (None, 256)                     0           \n",
       "________________________________________________________________________________\n",
       "dense_1 (Dense)                     (None, 256)                     65792       \n",
       "________________________________________________________________________________\n",
       "dropout_1 (Dropout)                 (None, 256)                     0           \n",
       "________________________________________________________________________________\n",
       "dense_2 (Dense)                     (None, 7)                       1799        \n",
       "================================================================================\n",
       "Total params: 2,164,999\n",
       "Trainable params: 2,164,999\n",
       "Non-trainable params: 0\n",
       "________________________________________________________________________________\n",
       "\n"
      ]
     },
     "metadata": {},
     "output_type": "display_data"
    }
   ],
   "source": [
    "model"
   ]
  },
  {
   "cell_type": "code",
   "execution_count": 8,
   "metadata": {
    "execution": {
     "iopub.execute_input": "2020-09-02T12:26:09.440202Z",
     "iopub.status.busy": "2020-09-02T12:26:09.438486Z",
     "iopub.status.idle": "2020-09-02T12:26:09.498924Z",
     "shell.execute_reply": "2020-09-02T12:26:09.497574Z"
    },
    "papermill": {
     "duration": 0.089692,
     "end_time": "2020-09-02T12:26:09.499119",
     "exception": false,
     "start_time": "2020-09-02T12:26:09.409427",
     "status": "completed"
    },
    "tags": []
   },
   "outputs": [],
   "source": [
    "model %>% compile(\n",
    "optimizer = optimizer_rmsprop(lr = 2e-5),\n",
    "loss = \"categorical_crossentropy\",\n",
    "metrics = c(\"categorical_accuracy\")\n",
    ")"
   ]
  },
  {
   "cell_type": "code",
   "execution_count": 9,
   "metadata": {
    "execution": {
     "iopub.execute_input": "2020-09-02T12:26:09.554938Z",
     "iopub.status.busy": "2020-09-02T12:26:09.553421Z",
     "iopub.status.idle": "2020-09-02T12:26:09.567272Z",
     "shell.execute_reply": "2020-09-02T12:26:09.565871Z"
    },
    "papermill": {
     "duration": 0.043215,
     "end_time": "2020-09-02T12:26:09.567442",
     "exception": false,
     "start_time": "2020-09-02T12:26:09.524227",
     "status": "completed"
    },
    "tags": []
   },
   "outputs": [],
   "source": [
    "batch_size = 64"
   ]
  },
  {
   "cell_type": "code",
   "execution_count": 10,
   "metadata": {
    "execution": {
     "iopub.execute_input": "2020-09-02T12:26:09.623628Z",
     "iopub.status.busy": "2020-09-02T12:26:09.621846Z",
     "iopub.status.idle": "2020-09-02T12:28:52.950862Z",
     "shell.execute_reply": "2020-09-02T12:28:52.949607Z"
    },
    "papermill": {
     "duration": 163.3587,
     "end_time": "2020-09-02T12:28:52.951162",
     "exception": false,
     "start_time": "2020-09-02T12:26:09.592462",
     "status": "completed"
    },
    "tags": []
   },
   "outputs": [],
   "source": [
    "# train model\n",
    "history <- model %>% fit(\n",
    "train$features, \n",
    "train$labels,\n",
    "epochs = 35,\n",
    "batch_size = batch_size,\n",
    "validation_data = list(validation$features, validation$labels)\n",
    ")"
   ]
  },
  {
   "cell_type": "code",
   "execution_count": 11,
   "metadata": {
    "execution": {
     "iopub.execute_input": "2020-09-02T12:28:53.015591Z",
     "iopub.status.busy": "2020-09-02T12:28:53.014324Z",
     "iopub.status.idle": "2020-09-02T12:28:54.044773Z",
     "shell.execute_reply": "2020-09-02T12:28:54.045268Z"
    },
    "papermill": {
     "duration": 1.060998,
     "end_time": "2020-09-02T12:28:54.045447",
     "exception": false,
     "start_time": "2020-09-02T12:28:52.984449",
     "status": "completed"
    },
    "tags": []
   },
   "outputs": [
    {
     "data": {
      "text/plain": [
       "Trained on 11,712 samples (batch_size=64, epochs=35)\n",
       "Final epoch (plot to see history):\n",
       "                    loss: 0.1288\n",
       "    categorical_accuracy: 0.9606\n",
       "                val_loss: 0.1532\n",
       "val_categorical_accuracy: 0.9517 "
      ]
     },
     "metadata": {},
     "output_type": "display_data"
    },
    {
     "name": "stderr",
     "output_type": "stream",
     "text": [
      "`geom_smooth()` using formula 'y ~ x'\n",
      "\n"
     ]
    },
    {
     "data": {
      "image/png": "[encoded data removed]"
     },
     "metadata": {
      "image/png": {
       "height": 420,
       "width": 420
      }
     },
     "output_type": "display_data"
    }
   ],
   "source": [
    "history\n",
    "plot(history)"
   ]
  },
  {
   "cell_type": "code",
   "execution_count": 12,
   "metadata": {
    "execution": {
     "iopub.execute_input": "2020-09-02T12:28:54.108367Z",
     "iopub.status.busy": "2020-09-02T12:28:54.107111Z",
     "iopub.status.idle": "2020-09-02T12:28:54.167388Z",
     "shell.execute_reply": "2020-09-02T12:28:54.166101Z"
    },
    "papermill": {
     "duration": 0.092973,
     "end_time": "2020-09-02T12:28:54.167558",
     "exception": false,
     "start_time": "2020-09-02T12:28:54.074585",
     "status": "completed"
    },
    "tags": []
   },
   "outputs": [],
   "source": [
    "save_model_hdf5(model,\"model_v1.h5\")"
   ]
  },
  {
   "cell_type": "code",
   "execution_count": 13,
   "metadata": {
    "execution": {
     "iopub.execute_input": "2020-09-02T12:28:54.231432Z",
     "iopub.status.busy": "2020-09-02T12:28:54.230153Z",
     "iopub.status.idle": "2020-09-02T12:28:54.250235Z",
     "shell.execute_reply": "2020-09-02T12:28:54.249116Z"
    },
    "papermill": {
     "duration": 0.053171,
     "end_time": "2020-09-02T12:28:54.250398",
     "exception": false,
     "start_time": "2020-09-02T12:28:54.197227",
     "status": "completed"
    },
    "tags": []
   },
   "outputs": [],
   "source": [
    "\n",
    "train_dataframe$landmark_id <- as.character(train_dataframe$landmark_id)\n",
    "col_names <- readRDS(file = \"/kaggle//input/train-generator/col_names.Rds\")"
   ]
  },
  {
   "cell_type": "code",
   "execution_count": 14,
   "metadata": {
    "execution": {
     "iopub.execute_input": "2020-09-02T12:28:54.313787Z",
     "iopub.status.busy": "2020-09-02T12:28:54.312434Z",
     "iopub.status.idle": "2020-09-02T12:28:54.324889Z",
     "shell.execute_reply": "2020-09-02T12:28:54.323689Z"
    },
    "papermill": {
     "duration": 0.045601,
     "end_time": "2020-09-02T12:28:54.325086",
     "exception": false,
     "start_time": "2020-09-02T12:28:54.279485",
     "status": "completed"
    },
    "tags": []
   },
   "outputs": [],
   "source": [
    "# landmark_id index\n",
    "predict_label <-function(data=train){\n",
    "namedLabeled <<- c()\n",
    "col_pred <<- model %>% predict_classes(data[[1]]) \n",
    "for (i in 1:length(col_pred)) {\n",
    "    namedLabeled[i] <<- col_names[col_pred[i]+1]  \n",
    " }\n",
    "print(str(namedLabeled))    \n",
    "}    "
   ]
  },
  {
   "cell_type": "code",
   "execution_count": 15,
   "metadata": {
    "execution": {
     "iopub.execute_input": "2020-09-02T12:28:54.388302Z",
     "iopub.status.busy": "2020-09-02T12:28:54.386946Z",
     "iopub.status.idle": "2020-09-02T12:28:58.316674Z",
     "shell.execute_reply": "2020-09-02T12:28:58.314947Z"
    },
    "papermill": {
     "duration": 3.963086,
     "end_time": "2020-09-02T12:28:58.317220",
     "exception": false,
     "start_time": "2020-09-02T12:28:54.354134",
     "status": "completed"
    },
    "tags": []
   },
   "outputs": [
    {
     "name": "stdout",
     "output_type": "stream",
     "text": [
      " chr [1:11712] \"138982\" \"20409\" \"113209\" \"126637\" \"83144\" \"20409\" \"126637\" ...\n",
      "NULL\n"
     ]
    }
   ],
   "source": [
    "predict_label(train)"
   ]
  },
  {
   "cell_type": "code",
   "execution_count": 16,
   "metadata": {
    "execution": {
     "iopub.execute_input": "2020-09-02T12:28:58.385413Z",
     "iopub.status.busy": "2020-09-02T12:28:58.383895Z",
     "iopub.status.idle": "2020-09-02T12:28:58.445600Z",
     "shell.execute_reply": "2020-09-02T12:28:58.430833Z"
    },
    "papermill": {
     "duration": 0.096975,
     "end_time": "2020-09-02T12:28:58.445783",
     "exception": false,
     "start_time": "2020-09-02T12:28:58.348808",
     "status": "completed"
    },
    "tags": []
   },
   "outputs": [
    {
     "data": {
      "text/html": [
       "<table class=\"dataframe\">\n",
       "<caption>A tibble: 6 × 5</caption>\n",
       "<thead>\n",
       "\t<tr><th scope=col>id</th><th scope=col>file_path</th><th scope=col>landmark_id</th><th scope=col>count_class</th><th scope=col>predict</th></tr>\n",
       "\t<tr><th scope=col>&lt;chr&gt;</th><th scope=col>&lt;chr&gt;</th><th scope=col>&lt;chr&gt;</th><th scope=col>&lt;dbl&gt;</th><th scope=col>&lt;chr&gt;</th></tr>\n",
       "</thead>\n",
       "<tbody>\n",
       "\t<tr><td>66a05adde31f5a66</td><td>../input//landmark-recognition-2020/train//6/6/a/66a05adde31f5a66.jpg</td><td>138982</td><td>6272</td><td>138982</td></tr>\n",
       "\t<tr><td>a5ed190d9b9e9387</td><td>../input//landmark-recognition-2020/train//a/5/e/a5ed190d9b9e9387.jpg</td><td>126637</td><td>2231</td><td>20409 </td></tr>\n",
       "\t<tr><td>4312fc17806e1e6a</td><td>../input//landmark-recognition-2020/train//4/3/1/4312fc17806e1e6a.jpg</td><td>20409 </td><td>1758</td><td>113209</td></tr>\n",
       "\t<tr><td>fa2615c7cedc5ff2</td><td>../input//landmark-recognition-2020/train//f/a/2/fa2615c7cedc5ff2.jpg</td><td>20409 </td><td>1758</td><td>126637</td></tr>\n",
       "\t<tr><td>1d823dcb048afe5b</td><td>../input//landmark-recognition-2020/train//1/d/8/1d823dcb048afe5b.jpg</td><td>20409 </td><td>1758</td><td>83144 </td></tr>\n",
       "\t<tr><td>a5080e4d5086c21a</td><td>../input//landmark-recognition-2020/train//a/5/0/a5080e4d5086c21a.jpg</td><td>83144 </td><td>1741</td><td>20409 </td></tr>\n",
       "</tbody>\n",
       "</table>\n"
      ],
      "text/latex": [
       "A tibble: 6 × 5\n",
       "\\begin{tabular}{lllll}\n",
       " id & file\\_path & landmark\\_id & count\\_class & predict\\\\\n",
       " <chr> & <chr> & <chr> & <dbl> & <chr>\\\\\n",
       "\\hline\n",
       "\t 66a05adde31f5a66 & ../input//landmark-recognition-2020/train//6/6/a/66a05adde31f5a66.jpg & 138982 & 6272 & 138982\\\\\n",
       "\t a5ed190d9b9e9387 & ../input//landmark-recognition-2020/train//a/5/e/a5ed190d9b9e9387.jpg & 126637 & 2231 & 20409 \\\\\n",
       "\t 4312fc17806e1e6a & ../input//landmark-recognition-2020/train//4/3/1/4312fc17806e1e6a.jpg & 20409  & 1758 & 113209\\\\\n",
       "\t fa2615c7cedc5ff2 & ../input//landmark-recognition-2020/train//f/a/2/fa2615c7cedc5ff2.jpg & 20409  & 1758 & 126637\\\\\n",
       "\t 1d823dcb048afe5b & ../input//landmark-recognition-2020/train//1/d/8/1d823dcb048afe5b.jpg & 20409  & 1758 & 83144 \\\\\n",
       "\t a5080e4d5086c21a & ../input//landmark-recognition-2020/train//a/5/0/a5080e4d5086c21a.jpg & 83144  & 1741 & 20409 \\\\\n",
       "\\end{tabular}\n"
      ],
      "text/markdown": [
       "\n",
       "A tibble: 6 × 5\n",
       "\n",
       "| id &lt;chr&gt; | file_path &lt;chr&gt; | landmark_id &lt;chr&gt; | count_class &lt;dbl&gt; | predict &lt;chr&gt; |\n",
       "|---|---|---|---|---|\n",
       "| 66a05adde31f5a66 | ../input//landmark-recognition-2020/train//6/6/a/66a05adde31f5a66.jpg | 138982 | 6272 | 138982 |\n",
       "| a5ed190d9b9e9387 | ../input//landmark-recognition-2020/train//a/5/e/a5ed190d9b9e9387.jpg | 126637 | 2231 | 20409  |\n",
       "| 4312fc17806e1e6a | ../input//landmark-recognition-2020/train//4/3/1/4312fc17806e1e6a.jpg | 20409  | 1758 | 113209 |\n",
       "| fa2615c7cedc5ff2 | ../input//landmark-recognition-2020/train//f/a/2/fa2615c7cedc5ff2.jpg | 20409  | 1758 | 126637 |\n",
       "| 1d823dcb048afe5b | ../input//landmark-recognition-2020/train//1/d/8/1d823dcb048afe5b.jpg | 20409  | 1758 | 83144  |\n",
       "| a5080e4d5086c21a | ../input//landmark-recognition-2020/train//a/5/0/a5080e4d5086c21a.jpg | 83144  | 1741 | 20409  |\n",
       "\n"
      ],
      "text/plain": [
       "  id              \n",
       "1 66a05adde31f5a66\n",
       "2 a5ed190d9b9e9387\n",
       "3 4312fc17806e1e6a\n",
       "4 fa2615c7cedc5ff2\n",
       "5 1d823dcb048afe5b\n",
       "6 a5080e4d5086c21a\n",
       "  file_path                                                            \n",
       "1 ../input//landmark-recognition-2020/train//6/6/a/66a05adde31f5a66.jpg\n",
       "2 ../input//landmark-recognition-2020/train//a/5/e/a5ed190d9b9e9387.jpg\n",
       "3 ../input//landmark-recognition-2020/train//4/3/1/4312fc17806e1e6a.jpg\n",
       "4 ../input//landmark-recognition-2020/train//f/a/2/fa2615c7cedc5ff2.jpg\n",
       "5 ../input//landmark-recognition-2020/train//1/d/8/1d823dcb048afe5b.jpg\n",
       "6 ../input//landmark-recognition-2020/train//a/5/0/a5080e4d5086c21a.jpg\n",
       "  landmark_id count_class predict\n",
       "1 138982      6272        138982 \n",
       "2 126637      2231        20409  \n",
       "3 20409       1758        113209 \n",
       "4 20409       1758        126637 \n",
       "5 20409       1758        83144  \n",
       "6 83144       1741        20409  "
      ]
     },
     "metadata": {},
     "output_type": "display_data"
    },
    {
     "data": {
      "text/html": [
       "<style>\n",
       ".list-inline {list-style: none; margin:0; padding: 0}\n",
       ".list-inline>li {display: inline-block}\n",
       ".list-inline>li:not(:last-child)::after {content: \"\\00b7\"; padding: 0 .5ex}\n",
       "</style>\n",
       "<ol class=list-inline><li>11712</li><li>5</li></ol>\n"
      ],
      "text/latex": [
       "\\begin{enumerate*}\n",
       "\\item 11712\n",
       "\\item 5\n",
       "\\end{enumerate*}\n"
      ],
      "text/markdown": [
       "1. 11712\n",
       "2. 5\n",
       "\n",
       "\n"
      ],
      "text/plain": [
       "[1] 11712     5"
      ]
     },
     "metadata": {},
     "output_type": "display_data"
    }
   ],
   "source": [
    "train_dataframe <- mutate(train_dataframe, predict = namedLabeled)\n",
    "head(train_dataframe)\n",
    "dim(train_dataframe)\n"
   ]
  },
  {
   "cell_type": "code",
   "execution_count": 17,
   "metadata": {
    "execution": {
     "iopub.execute_input": "2020-09-02T12:28:58.516333Z",
     "iopub.status.busy": "2020-09-02T12:28:58.514598Z",
     "iopub.status.idle": "2020-09-02T12:28:58.529369Z",
     "shell.execute_reply": "2020-09-02T12:28:58.527913Z"
    },
    "papermill": {
     "duration": 0.051608,
     "end_time": "2020-09-02T12:28:58.529525",
     "exception": false,
     "start_time": "2020-09-02T12:28:58.477917",
     "status": "completed"
    },
    "tags": []
   },
   "outputs": [],
   "source": [
    "actual <- train_dataframe$landmark_id\n",
    "preds <- train_dataframe$predict"
   ]
  },
  {
   "cell_type": "code",
   "execution_count": 18,
   "metadata": {
    "execution": {
     "iopub.execute_input": "2020-09-02T12:28:58.600563Z",
     "iopub.status.busy": "2020-09-02T12:28:58.598747Z",
     "iopub.status.idle": "2020-09-02T12:28:58.612911Z",
     "shell.execute_reply": "2020-09-02T12:28:58.611368Z"
    },
    "papermill": {
     "duration": 0.050962,
     "end_time": "2020-09-02T12:28:58.613117",
     "exception": false,
     "start_time": "2020-09-02T12:28:58.562155",
     "status": "completed"
    },
    "tags": []
   },
   "outputs": [],
   "source": [
    "percision_index <- function(preds, actual){\n",
    "x <- mda::confusion(as.factor(preds),as.factor(actual))\n",
    "dataFrame <- data.frame(x)\n",
    "dataFrame <- dataFrame %>% mutate(result=ifelse(predicted==true,1,0))\n",
    "totalTrueP <- dataFrame %>% filter(result==1)\n",
    "totalTrueP <- sum(totalTrueP$Freq)\n",
    "totalTrueFalse <- dataFrame %>% filter(result==0)\n",
    "totalTrueFalse <- sum(totalTrueFalse$Freq)\n",
    "totalmicroPercision <- totalTrueP/(totalTrueP+totalTrueFalse)\n",
    "print(glue::glue(\"totalmicroPercision: {round(totalmicroPercision,2)}\"))\n",
    "\n",
    "labels_names <- as.character(unique(actual))\n",
    "length(labels_names)\n",
    "koubas <<- tibble()\n",
    "for (i in 1:length(labels_names)) {\n",
    "filterTrue <- dataFrame %>% filter(predicted==labels_names[i] & result==1)\n",
    "tp <- filterTrue$Freq\n",
    "filterFalse <- dataFrame %>% filter(predicted==labels_names[i] & result==0)\n",
    "tn <- sum(filterFalse$Freq)\n",
    "percision <- round(tp/(tp+tn),2)\n",
    "dataframe <- tibble(landmark_id=labels_names[i], tp=tp,tn=tn,percision=percision)\n",
    "koubas <<- rbind(koubas,dataframe)\n",
    "koubas <<- koubas %>% arrange(desc(percision))\n",
    "\n",
    "#print(i)\n",
    "}\n",
    "print(dim(koubas))\n",
    "head(koubas)\n",
    "    \n",
    "}"
   ]
  },
  {
   "cell_type": "code",
   "execution_count": 19,
   "metadata": {
    "execution": {
     "iopub.execute_input": "2020-09-02T12:28:58.684890Z",
     "iopub.status.busy": "2020-09-02T12:28:58.682685Z",
     "iopub.status.idle": "2020-09-02T12:28:58.866314Z",
     "shell.execute_reply": "2020-09-02T12:28:58.864980Z"
    },
    "papermill": {
     "duration": 0.220836,
     "end_time": "2020-09-02T12:28:58.866474",
     "exception": false,
     "start_time": "2020-09-02T12:28:58.645638",
     "status": "completed"
    },
    "tags": []
   },
   "outputs": [
    {
     "name": "stdout",
     "output_type": "stream",
     "text": [
      "totalmicroPercision: 0.23\n",
      "[1] 7 4\n"
     ]
    },
    {
     "data": {
      "text/html": [
       "<table class=\"dataframe\">\n",
       "<caption>A tibble: 6 × 4</caption>\n",
       "<thead>\n",
       "\t<tr><th scope=col>landmark_id</th><th scope=col>tp</th><th scope=col>tn</th><th scope=col>percision</th></tr>\n",
       "\t<tr><th scope=col>&lt;chr&gt;</th><th scope=col>&lt;int&gt;</th><th scope=col>&lt;int&gt;</th><th scope=col>&lt;dbl&gt;</th></tr>\n",
       "</thead>\n",
       "<tbody>\n",
       "\t<tr><td>138982</td><td>1985</td><td>2848</td><td>0.41</td></tr>\n",
       "\t<tr><td>126637</td><td> 277</td><td>1534</td><td>0.15</td></tr>\n",
       "\t<tr><td>20409 </td><td> 143</td><td>1197</td><td>0.11</td></tr>\n",
       "\t<tr><td>83144 </td><td> 135</td><td>1187</td><td>0.10</td></tr>\n",
       "\t<tr><td>194914</td><td>  59</td><td> 754</td><td>0.07</td></tr>\n",
       "\t<tr><td>113209</td><td>  64</td><td> 816</td><td>0.07</td></tr>\n",
       "</tbody>\n",
       "</table>\n"
      ],
      "text/latex": [
       "A tibble: 6 × 4\n",
       "\\begin{tabular}{llll}\n",
       " landmark\\_id & tp & tn & percision\\\\\n",
       " <chr> & <int> & <int> & <dbl>\\\\\n",
       "\\hline\n",
       "\t 138982 & 1985 & 2848 & 0.41\\\\\n",
       "\t 126637 &  277 & 1534 & 0.15\\\\\n",
       "\t 20409  &  143 & 1197 & 0.11\\\\\n",
       "\t 83144  &  135 & 1187 & 0.10\\\\\n",
       "\t 194914 &   59 &  754 & 0.07\\\\\n",
       "\t 113209 &   64 &  816 & 0.07\\\\\n",
       "\\end{tabular}\n"
      ],
      "text/markdown": [
       "\n",
       "A tibble: 6 × 4\n",
       "\n",
       "| landmark_id &lt;chr&gt; | tp &lt;int&gt; | tn &lt;int&gt; | percision &lt;dbl&gt; |\n",
       "|---|---|---|---|\n",
       "| 138982 | 1985 | 2848 | 0.41 |\n",
       "| 126637 |  277 | 1534 | 0.15 |\n",
       "| 20409  |  143 | 1197 | 0.11 |\n",
       "| 83144  |  135 | 1187 | 0.10 |\n",
       "| 194914 |   59 |  754 | 0.07 |\n",
       "| 113209 |   64 |  816 | 0.07 |\n",
       "\n"
      ],
      "text/plain": [
       "  landmark_id tp   tn   percision\n",
       "1 138982      1985 2848 0.41     \n",
       "2 126637       277 1534 0.15     \n",
       "3 20409        143 1197 0.11     \n",
       "4 83144        135 1187 0.10     \n",
       "5 194914        59  754 0.07     \n",
       "6 113209        64  816 0.07     "
      ]
     },
     "metadata": {},
     "output_type": "display_data"
    }
   ],
   "source": [
    "percision_index(preds = preds,actual = actual)"
   ]
  },
  {
   "cell_type": "code",
   "execution_count": 20,
   "metadata": {
    "execution": {
     "iopub.execute_input": "2020-09-02T12:28:58.941544Z",
     "iopub.status.busy": "2020-09-02T12:28:58.939959Z",
     "iopub.status.idle": "2020-09-02T12:29:03.544935Z",
     "shell.execute_reply": "2020-09-02T12:29:03.543776Z"
    },
    "papermill": {
     "duration": 4.643536,
     "end_time": "2020-09-02T12:29:03.545236",
     "exception": false,
     "start_time": "2020-09-02T12:28:58.901700",
     "status": "completed"
    },
    "tags": []
   },
   "outputs": [],
   "source": [
    "# Predict Test_sub\n",
    "testSub <- readRDS(file = \"/kaggle/input/test-sub-generator/testSub.Rds\")\n"
   ]
  },
  {
   "cell_type": "code",
   "execution_count": 21,
   "metadata": {
    "execution": {
     "iopub.execute_input": "2020-09-02T12:29:03.640947Z",
     "iopub.status.busy": "2020-09-02T12:29:03.639058Z",
     "iopub.status.idle": "2020-09-02T12:29:08.953501Z",
     "shell.execute_reply": "2020-09-02T12:29:08.951775Z"
    },
    "papermill": {
     "duration": 5.361234,
     "end_time": "2020-09-02T12:29:08.953767",
     "exception": false,
     "start_time": "2020-09-02T12:29:03.592533",
     "status": "completed"
    },
    "tags": []
   },
   "outputs": [
    {
     "name": "stdout",
     "output_type": "stream",
     "text": [
      " chr [1:10345] \"20409\" \"83144\" \"126637\" \"126637\" \"177870\" \"126637\" \"138982\" ...\n",
      "NULL\n"
     ]
    }
   ],
   "source": [
    "predict_label(data = testSub)"
   ]
  },
  {
   "cell_type": "code",
   "execution_count": 22,
   "metadata": {
    "execution": {
     "iopub.execute_input": "2020-09-02T12:29:09.030824Z",
     "iopub.status.busy": "2020-09-02T12:29:09.029432Z",
     "iopub.status.idle": "2020-09-02T12:29:09.045142Z",
     "shell.execute_reply": "2020-09-02T12:29:09.043869Z"
    },
    "papermill": {
     "duration": 0.055624,
     "end_time": "2020-09-02T12:29:09.045304",
     "exception": false,
     "start_time": "2020-09-02T12:29:08.989680",
     "status": "completed"
    },
    "tags": []
   },
   "outputs": [
    {
     "data": {
      "text/html": [
       "10345"
      ],
      "text/latex": [
       "10345"
      ],
      "text/markdown": [
       "10345"
      ],
      "text/plain": [
       "[1] 10345"
      ]
     },
     "metadata": {},
     "output_type": "display_data"
    }
   ],
   "source": [
    "length(namedLabeled)"
   ]
  },
  {
   "cell_type": "code",
   "execution_count": 23,
   "metadata": {
    "execution": {
     "iopub.execute_input": "2020-09-02T12:29:09.125473Z",
     "iopub.status.busy": "2020-09-02T12:29:09.124132Z",
     "iopub.status.idle": "2020-09-02T12:29:09.170785Z",
     "shell.execute_reply": "2020-09-02T12:29:09.169469Z"
    },
    "papermill": {
     "duration": 0.08705,
     "end_time": "2020-09-02T12:29:09.170955",
     "exception": false,
     "start_time": "2020-09-02T12:29:09.083905",
     "status": "completed"
    },
    "tags": []
   },
   "outputs": [
    {
     "name": "stderr",
     "output_type": "stream",
     "text": [
      "Parsed with column specification:\n",
      "cols(\n",
      "  files = \u001b[31mcol_character()\u001b[39m,\n",
      "  file_path = \u001b[31mcol_character()\u001b[39m\n",
      ")\n",
      "\n"
     ]
    }
   ],
   "source": [
    "test_files <- read_csv(\"/kaggle/input//1-read-landmark-recognition-train-test-validation//test_files.csv\")"
   ]
  },
  {
   "cell_type": "code",
   "execution_count": 24,
   "metadata": {
    "execution": {
     "iopub.execute_input": "2020-09-02T12:29:09.249270Z",
     "iopub.status.busy": "2020-09-02T12:29:09.247494Z",
     "iopub.status.idle": "2020-09-02T12:29:09.378496Z",
     "shell.execute_reply": "2020-09-02T12:29:09.376864Z"
    },
    "papermill": {
     "duration": 0.171128,
     "end_time": "2020-09-02T12:29:09.378721",
     "exception": false,
     "start_time": "2020-09-02T12:29:09.207593",
     "status": "completed"
    },
    "tags": []
   },
   "outputs": [
    {
     "name": "stderr",
     "output_type": "stream",
     "text": [
      "\n",
      "Attaching package: ‘data.table’\n",
      "\n",
      "\n",
      "The following objects are masked from ‘package:dplyr’:\n",
      "\n",
      "    between, first, last\n",
      "\n",
      "\n",
      "The following object is masked from ‘package:purrr’:\n",
      "\n",
      "    transpose\n",
      "\n",
      "\n",
      "The following object is masked from ‘package:ggplot2’:\n",
      "\n",
      "    :=\n",
      "\n",
      "\n"
     ]
    }
   ],
   "source": [
    "library(data.table)"
   ]
  },
  {
   "cell_type": "code",
   "execution_count": 25,
   "metadata": {
    "execution": {
     "iopub.execute_input": "2020-09-02T12:29:09.459645Z",
     "iopub.status.busy": "2020-09-02T12:29:09.458076Z",
     "iopub.status.idle": "2020-09-02T12:29:09.650730Z",
     "shell.execute_reply": "2020-09-02T12:29:09.649580Z"
    },
    "papermill": {
     "duration": 0.234317,
     "end_time": "2020-09-02T12:29:09.650897",
     "exception": false,
     "start_time": "2020-09-02T12:29:09.416580",
     "status": "completed"
    },
    "tags": []
   },
   "outputs": [],
   "source": [
    "submission <- data.table(id = test_files$files,landmarks = paste(namedLabeled,round(koubas$percision,2),sep = \" \"))\n",
    "#submission <- data.table(id = test_files$files,landmarks = paste(namedLabeled,0.1,sep = \" \"))\n",
    "row.names(submission) <- NULL"
   ]
  },
  {
   "cell_type": "code",
   "execution_count": 26,
   "metadata": {
    "execution": {
     "iopub.execute_input": "2020-09-02T12:29:09.737667Z",
     "iopub.status.busy": "2020-09-02T12:29:09.736419Z",
     "iopub.status.idle": "2020-09-02T12:29:09.763705Z",
     "shell.execute_reply": "2020-09-02T12:29:09.762474Z"
    },
    "papermill": {
     "duration": 0.072324,
     "end_time": "2020-09-02T12:29:09.763886",
     "exception": false,
     "start_time": "2020-09-02T12:29:09.691562",
     "status": "completed"
    },
    "tags": []
   },
   "outputs": [
    {
     "data": {
      "text/html": [
       "16"
      ],
      "text/latex": [
       "16"
      ],
      "text/markdown": [
       "16"
      ],
      "text/plain": [
       "[1] 16"
      ]
     },
     "metadata": {},
     "output_type": "display_data"
    }
   ],
   "source": [
    "str_count(submission$id[1])"
   ]
  },
  {
   "cell_type": "code",
   "execution_count": 27,
   "metadata": {
    "execution": {
     "iopub.execute_input": "2020-09-02T12:29:09.846620Z",
     "iopub.status.busy": "2020-09-02T12:29:09.845329Z",
     "iopub.status.idle": "2020-09-02T12:29:09.880040Z",
     "shell.execute_reply": "2020-09-02T12:29:09.878752Z"
    },
    "papermill": {
     "duration": 0.077578,
     "end_time": "2020-09-02T12:29:09.880194",
     "exception": false,
     "start_time": "2020-09-02T12:29:09.802616",
     "status": "completed"
    },
    "tags": []
   },
   "outputs": [
    {
     "data": {
      "text/html": [
       "<style>\n",
       ".list-inline {list-style: none; margin:0; padding: 0}\n",
       ".list-inline>li {display: inline-block}\n",
       ".list-inline>li:not(:last-child)::after {content: \"\\00b7\"; padding: 0 .5ex}\n",
       "</style>\n",
       "<ol class=list-inline><li>10345</li><li>2</li></ol>\n"
      ],
      "text/latex": [
       "\\begin{enumerate*}\n",
       "\\item 10345\n",
       "\\item 2\n",
       "\\end{enumerate*}\n"
      ],
      "text/markdown": [
       "1. 10345\n",
       "2. 2\n",
       "\n",
       "\n"
      ],
      "text/plain": [
       "[1] 10345     2"
      ]
     },
     "metadata": {},
     "output_type": "display_data"
    },
    {
     "data": {
      "text/html": [
       "<table class=\"dataframe\">\n",
       "<caption>A data.table: 6 × 2</caption>\n",
       "<thead>\n",
       "\t<tr><th scope=col>id</th><th scope=col>landmarks</th></tr>\n",
       "\t<tr><th scope=col>&lt;chr&gt;</th><th scope=col>&lt;chr&gt;</th></tr>\n",
       "</thead>\n",
       "<tbody>\n",
       "\t<tr><td>00084cdf8f600d00</td><td>20409 0.41 </td></tr>\n",
       "\t<tr><td>000b15b043eb8cf0</td><td>83144 0.15 </td></tr>\n",
       "\t<tr><td>0011a52f9b948fd2</td><td>126637 0.11</td></tr>\n",
       "\t<tr><td>00141b8a5a729084</td><td>126637 0.1 </td></tr>\n",
       "\t<tr><td>0018aa4b92532b77</td><td>177870 0.07</td></tr>\n",
       "\t<tr><td>001baaaab791d8db</td><td>126637 0.07</td></tr>\n",
       "</tbody>\n",
       "</table>\n"
      ],
      "text/latex": [
       "A data.table: 6 × 2\n",
       "\\begin{tabular}{ll}\n",
       " id & landmarks\\\\\n",
       " <chr> & <chr>\\\\\n",
       "\\hline\n",
       "\t 00084cdf8f600d00 & 20409 0.41 \\\\\n",
       "\t 000b15b043eb8cf0 & 83144 0.15 \\\\\n",
       "\t 0011a52f9b948fd2 & 126637 0.11\\\\\n",
       "\t 00141b8a5a729084 & 126637 0.1 \\\\\n",
       "\t 0018aa4b92532b77 & 177870 0.07\\\\\n",
       "\t 001baaaab791d8db & 126637 0.07\\\\\n",
       "\\end{tabular}\n"
      ],
      "text/markdown": [
       "\n",
       "A data.table: 6 × 2\n",
       "\n",
       "| id &lt;chr&gt; | landmarks &lt;chr&gt; |\n",
       "|---|---|\n",
       "| 00084cdf8f600d00 | 20409 0.41  |\n",
       "| 000b15b043eb8cf0 | 83144 0.15  |\n",
       "| 0011a52f9b948fd2 | 126637 0.11 |\n",
       "| 00141b8a5a729084 | 126637 0.1  |\n",
       "| 0018aa4b92532b77 | 177870 0.07 |\n",
       "| 001baaaab791d8db | 126637 0.07 |\n",
       "\n"
      ],
      "text/plain": [
       "  id               landmarks  \n",
       "1 00084cdf8f600d00 20409 0.41 \n",
       "2 000b15b043eb8cf0 83144 0.15 \n",
       "3 0011a52f9b948fd2 126637 0.11\n",
       "4 00141b8a5a729084 126637 0.1 \n",
       "5 0018aa4b92532b77 177870 0.07\n",
       "6 001baaaab791d8db 126637 0.07"
      ]
     },
     "metadata": {},
     "output_type": "display_data"
    }
   ],
   "source": [
    "dim(submission)\n",
    "head(submission)"
   ]
  },
  {
   "cell_type": "code",
   "execution_count": 28,
   "metadata": {
    "execution": {
     "iopub.execute_input": "2020-09-02T12:29:09.967638Z",
     "iopub.status.busy": "2020-09-02T12:29:09.966161Z",
     "iopub.status.idle": "2020-09-02T12:29:09.982167Z",
     "shell.execute_reply": "2020-09-02T12:29:09.980920Z"
    },
    "papermill": {
     "duration": 0.061,
     "end_time": "2020-09-02T12:29:09.982328",
     "exception": false,
     "start_time": "2020-09-02T12:29:09.921328",
     "status": "completed"
    },
    "tags": []
   },
   "outputs": [],
   "source": [
    "#write_csv(x = submission,path = \"submission.csv\")\n",
    "fwrite(submission, \"submission.csv\",row.names = F) "
   ]
  }
 ],
 "metadata": {
  "kernelspec": {
   "display_name": "R",
   "language": "R",
   "name": "ir"
  },
  "language_info": {
   "codemirror_mode": "r",
   "file_extension": ".r",
   "mimetype": "text/x-r-source",
   "name": "R",
   "pygments_lexer": "r",
   "version": "3.6.3"
  },
  "papermill": {
   "duration": 201.513562,
   "end_time": "2020-09-02T12:29:10.333784",
   "environment_variables": {},
   "exception": null,
   "input_path": "__notebook__.ipynb",
   "output_path": "__notebook__.ipynb",
   "parameters": {},
   "start_time": "2020-09-02T12:25:48.820222",
   "version": "2.1.2"
  }
 },
 "nbformat": 4,
 "nbformat_minor": 4
}
