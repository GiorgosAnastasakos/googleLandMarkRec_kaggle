{
 "cells": [
  {
   "cell_type": "code",
   "execution_count": 1,
   "metadata": {
    "_execution_state": "idle",
    "_uuid": "051d70d956493feee0c6d64651c6a088724dca2a",
    "execution": {
     "iopub.execute_input": "2020-09-01T06:25:11.031042Z",
     "iopub.status.busy": "2020-09-01T06:25:11.029072Z",
     "iopub.status.idle": "2020-09-01T06:25:13.874641Z",
     "shell.execute_reply": "2020-09-01T06:25:13.873292Z"
    },
    "papermill": {
     "duration": 2.888898,
     "end_time": "2020-09-01T06:25:13.874889",
     "exception": false,
     "start_time": "2020-09-01T06:25:10.985991",
     "status": "completed"
    },
    "tags": []
   },
   "outputs": [
    {
     "name": "stderr",
     "output_type": "stream",
     "text": [
      "── \u001b[1mAttaching packages\u001b[22m ─────────────────────────────────────── tidyverse 1.3.0 ──\n",
      "\n",
      "\u001b[32m✔\u001b[39m \u001b[34mggplot2\u001b[39m 3.3.2.\u001b[31m9000\u001b[39m     \u001b[32m✔\u001b[39m \u001b[34mpurrr  \u001b[39m 0.3.4     \n",
      "\u001b[32m✔\u001b[39m \u001b[34mtibble \u001b[39m 3.0.3          \u001b[32m✔\u001b[39m \u001b[34mdplyr  \u001b[39m 1.0.1     \n",
      "\u001b[32m✔\u001b[39m \u001b[34mtidyr  \u001b[39m 1.1.1          \u001b[32m✔\u001b[39m \u001b[34mstringr\u001b[39m 1.4.0     \n",
      "\u001b[32m✔\u001b[39m \u001b[34mreadr  \u001b[39m 1.3.1          \u001b[32m✔\u001b[39m \u001b[34mforcats\u001b[39m 0.5.0     \n",
      "\n",
      "── \u001b[1mConflicts\u001b[22m ────────────────────────────────────────── tidyverse_conflicts() ──\n",
      "\u001b[31m✖\u001b[39m \u001b[34mdplyr\u001b[39m::\u001b[32mfilter()\u001b[39m masks \u001b[34mstats\u001b[39m::filter()\n",
      "\u001b[31m✖\u001b[39m \u001b[34mdplyr\u001b[39m::\u001b[32mlag()\u001b[39m    masks \u001b[34mstats\u001b[39m::lag()\n",
      "\n"
     ]
    }
   ],
   "source": [
    "library(tidyverse) \n",
    "library(keras)"
   ]
  },
  {
   "cell_type": "code",
   "execution_count": 2,
   "metadata": {
    "execution": {
     "iopub.execute_input": "2020-09-01T06:25:13.945814Z",
     "iopub.status.busy": "2020-09-01T06:25:13.905624Z",
     "iopub.status.idle": "2020-09-01T06:25:20.327936Z",
     "shell.execute_reply": "2020-09-01T06:25:20.326328Z"
    },
    "papermill": {
     "duration": 6.439245,
     "end_time": "2020-09-01T06:25:20.328168",
     "exception": false,
     "start_time": "2020-09-01T06:25:13.888923",
     "status": "completed"
    },
    "tags": []
   },
   "outputs": [],
   "source": [
    "conv_base <- load_model_hdf5(\"/kaggle/input/vgg16-get/conv_baseVgg16.h5\")"
   ]
  },
  {
   "cell_type": "code",
   "execution_count": 3,
   "metadata": {
    "execution": {
     "iopub.execute_input": "2020-09-01T06:25:20.360455Z",
     "iopub.status.busy": "2020-09-01T06:25:20.358492Z",
     "iopub.status.idle": "2020-09-01T06:25:20.384071Z",
     "shell.execute_reply": "2020-09-01T06:25:20.382824Z"
    },
    "papermill": {
     "duration": 0.042419,
     "end_time": "2020-09-01T06:25:20.384228",
     "exception": false,
     "start_time": "2020-09-01T06:25:20.341809",
     "status": "completed"
    },
    "tags": []
   },
   "outputs": [
    {
     "data": {
      "text/plain": [
       "Model\n",
       "Model: \"vgg16\"\n",
       "________________________________________________________________________________\n",
       "Layer (type)                        Output Shape                    Param #     \n",
       "================================================================================\n",
       "input_1 (InputLayer)                [(None, 150, 150, 3)]           0           \n",
       "________________________________________________________________________________\n",
       "block1_conv1 (Conv2D)               (None, 150, 150, 64)            1792        \n",
       "________________________________________________________________________________\n",
       "block1_conv2 (Conv2D)               (None, 150, 150, 64)            36928       \n",
       "________________________________________________________________________________\n",
       "block1_pool (MaxPooling2D)          (None, 75, 75, 64)              0           \n",
       "________________________________________________________________________________\n",
       "block2_conv1 (Conv2D)               (None, 75, 75, 128)             73856       \n",
       "________________________________________________________________________________\n",
       "block2_conv2 (Conv2D)               (None, 75, 75, 128)             147584      \n",
       "________________________________________________________________________________\n",
       "block2_pool (MaxPooling2D)          (None, 37, 37, 128)             0           \n",
       "________________________________________________________________________________\n",
       "block3_conv1 (Conv2D)               (None, 37, 37, 256)             295168      \n",
       "________________________________________________________________________________\n",
       "block3_conv2 (Conv2D)               (None, 37, 37, 256)             590080      \n",
       "________________________________________________________________________________\n",
       "block3_conv3 (Conv2D)               (None, 37, 37, 256)             590080      \n",
       "________________________________________________________________________________\n",
       "block3_pool (MaxPooling2D)          (None, 18, 18, 256)             0           \n",
       "________________________________________________________________________________\n",
       "block4_conv1 (Conv2D)               (None, 18, 18, 512)             1180160     \n",
       "________________________________________________________________________________\n",
       "block4_conv2 (Conv2D)               (None, 18, 18, 512)             2359808     \n",
       "________________________________________________________________________________\n",
       "block4_conv3 (Conv2D)               (None, 18, 18, 512)             2359808     \n",
       "________________________________________________________________________________\n",
       "block4_pool (MaxPooling2D)          (None, 9, 9, 512)               0           \n",
       "________________________________________________________________________________\n",
       "block5_conv1 (Conv2D)               (None, 9, 9, 512)               2359808     \n",
       "________________________________________________________________________________\n",
       "block5_conv2 (Conv2D)               (None, 9, 9, 512)               2359808     \n",
       "________________________________________________________________________________\n",
       "block5_conv3 (Conv2D)               (None, 9, 9, 512)               2359808     \n",
       "________________________________________________________________________________\n",
       "block5_pool (MaxPooling2D)          (None, 4, 4, 512)               0           \n",
       "================================================================================\n",
       "Total params: 14,714,688\n",
       "Trainable params: 14,714,688\n",
       "Non-trainable params: 0\n",
       "________________________________________________________________________________\n",
       "\n"
      ]
     },
     "metadata": {},
     "output_type": "display_data"
    }
   ],
   "source": [
    "conv_base"
   ]
  },
  {
   "cell_type": "code",
   "execution_count": 4,
   "metadata": {
    "execution": {
     "iopub.execute_input": "2020-09-01T06:25:20.417052Z",
     "iopub.status.busy": "2020-09-01T06:25:20.415616Z",
     "iopub.status.idle": "2020-09-01T06:25:20.461960Z",
     "shell.execute_reply": "2020-09-01T06:25:20.460584Z"
    },
    "papermill": {
     "duration": 0.064091,
     "end_time": "2020-09-01T06:25:20.462129",
     "exception": false,
     "start_time": "2020-09-01T06:25:20.398038",
     "status": "completed"
    },
    "tags": []
   },
   "outputs": [],
   "source": [
    "batch_size <- 64"
   ]
  },
  {
   "cell_type": "code",
   "execution_count": 5,
   "metadata": {
    "execution": {
     "iopub.execute_input": "2020-09-01T06:25:20.495634Z",
     "iopub.status.busy": "2020-09-01T06:25:20.494173Z",
     "iopub.status.idle": "2020-09-01T06:25:20.515349Z",
     "shell.execute_reply": "2020-09-01T06:25:20.514088Z"
    },
    "papermill": {
     "duration": 0.03939,
     "end_time": "2020-09-01T06:25:20.515519",
     "exception": false,
     "start_time": "2020-09-01T06:25:20.476129",
     "status": "completed"
    },
    "tags": []
   },
   "outputs": [],
   "source": [
    "datagen <- image_data_generator(rescale = 1/255)\n",
    "\n",
    "extract_features <- function(dataframe, sample_count){\n",
    "    features <- array(0, dim = c(sample_count, 4,4,512))\n",
    "    labels <- matrix(0,nrow = sample_count,nrow(unique(dataframe[,3])))\n",
    "    \n",
    "    generator <- flow_images_from_dataframe(\n",
    "    dataframe = dataframe, \n",
    "    x_col = \"file_path\", \n",
    "    y_col= \"landmark_id\",\n",
    "    generator = datagen,\n",
    "    target_size = c(150,150),\n",
    "    batch_size = batch_size,\n",
    "    class_mode=\"categorical\"\n",
    "    )\n",
    "    \n",
    "    i <- 0\n",
    "    while (TRUE) {\n",
    "        batch <- generator_next(generator)\n",
    "        inputs_batch <- batch[[1]]\n",
    "        labels_batch <- batch[[2]]\n",
    "        \n",
    "        features_batch <- conv_base %>% predict(inputs_batch)\n",
    "        \n",
    "        index_range <- ((i * batch_size)+1) : ((i+1)*batch_size)\n",
    "        \n",
    "        features[index_range,,,] <- features_batch\n",
    "        labels[index_range,] <- labels_batch\n",
    "        \n",
    "        i <- i+1\n",
    "        print(i)\n",
    "        \n",
    "        if (i*batch_size >= sample_count)\n",
    "            break\n",
    "    }\n",
    "    \n",
    "    list(\n",
    "    features = features,\n",
    "    labels = labels)\n",
    "}"
   ]
  },
  {
   "cell_type": "code",
   "execution_count": 6,
   "metadata": {
    "execution": {
     "iopub.execute_input": "2020-09-01T06:25:20.549520Z",
     "iopub.status.busy": "2020-09-01T06:25:20.547993Z",
     "iopub.status.idle": "2020-09-01T06:25:20.713666Z",
     "shell.execute_reply": "2020-09-01T06:25:20.712104Z"
    },
    "papermill": {
     "duration": 0.184235,
     "end_time": "2020-09-01T06:25:20.713875",
     "exception": false,
     "start_time": "2020-09-01T06:25:20.529640",
     "status": "completed"
    },
    "tags": []
   },
   "outputs": [
    {
     "name": "stderr",
     "output_type": "stream",
     "text": [
      "Parsed with column specification:\n",
      "cols(\n",
      "  id = \u001b[31mcol_character()\u001b[39m,\n",
      "  file_path = \u001b[31mcol_character()\u001b[39m,\n",
      "  landmark_id = \u001b[32mcol_double()\u001b[39m,\n",
      "  count_class = \u001b[32mcol_double()\u001b[39m\n",
      ")\n",
      "\n"
     ]
    },
    {
     "data": {
      "text/html": [
       "<table class=\"dataframe\">\n",
       "<caption>A tibble: 6 × 4</caption>\n",
       "<thead>\n",
       "\t<tr><th scope=col>id</th><th scope=col>file_path</th><th scope=col>landmark_id</th><th scope=col>count_class</th></tr>\n",
       "\t<tr><th scope=col>&lt;chr&gt;</th><th scope=col>&lt;chr&gt;</th><th scope=col>&lt;chr&gt;</th><th scope=col>&lt;chr&gt;</th></tr>\n",
       "</thead>\n",
       "<tbody>\n",
       "\t<tr><td>66a05adde31f5a66</td><td>../input//landmark-recognition-2020/train//6/6/a/66a05adde31f5a66.jpg</td><td>138982</td><td>6272</td></tr>\n",
       "\t<tr><td>a5ed190d9b9e9387</td><td>../input//landmark-recognition-2020/train//a/5/e/a5ed190d9b9e9387.jpg</td><td>126637</td><td>2231</td></tr>\n",
       "\t<tr><td>4312fc17806e1e6a</td><td>../input//landmark-recognition-2020/train//4/3/1/4312fc17806e1e6a.jpg</td><td>20409 </td><td>1758</td></tr>\n",
       "\t<tr><td>fa2615c7cedc5ff2</td><td>../input//landmark-recognition-2020/train//f/a/2/fa2615c7cedc5ff2.jpg</td><td>20409 </td><td>1758</td></tr>\n",
       "\t<tr><td>1d823dcb048afe5b</td><td>../input//landmark-recognition-2020/train//1/d/8/1d823dcb048afe5b.jpg</td><td>20409 </td><td>1758</td></tr>\n",
       "\t<tr><td>a5080e4d5086c21a</td><td>../input//landmark-recognition-2020/train//a/5/0/a5080e4d5086c21a.jpg</td><td>83144 </td><td>1741</td></tr>\n",
       "</tbody>\n",
       "</table>\n"
      ],
      "text/latex": [
       "A tibble: 6 × 4\n",
       "\\begin{tabular}{llll}\n",
       " id & file\\_path & landmark\\_id & count\\_class\\\\\n",
       " <chr> & <chr> & <chr> & <chr>\\\\\n",
       "\\hline\n",
       "\t 66a05adde31f5a66 & ../input//landmark-recognition-2020/train//6/6/a/66a05adde31f5a66.jpg & 138982 & 6272\\\\\n",
       "\t a5ed190d9b9e9387 & ../input//landmark-recognition-2020/train//a/5/e/a5ed190d9b9e9387.jpg & 126637 & 2231\\\\\n",
       "\t 4312fc17806e1e6a & ../input//landmark-recognition-2020/train//4/3/1/4312fc17806e1e6a.jpg & 20409  & 1758\\\\\n",
       "\t fa2615c7cedc5ff2 & ../input//landmark-recognition-2020/train//f/a/2/fa2615c7cedc5ff2.jpg & 20409  & 1758\\\\\n",
       "\t 1d823dcb048afe5b & ../input//landmark-recognition-2020/train//1/d/8/1d823dcb048afe5b.jpg & 20409  & 1758\\\\\n",
       "\t a5080e4d5086c21a & ../input//landmark-recognition-2020/train//a/5/0/a5080e4d5086c21a.jpg & 83144  & 1741\\\\\n",
       "\\end{tabular}\n"
      ],
      "text/markdown": [
       "\n",
       "A tibble: 6 × 4\n",
       "\n",
       "| id &lt;chr&gt; | file_path &lt;chr&gt; | landmark_id &lt;chr&gt; | count_class &lt;chr&gt; |\n",
       "|---|---|---|---|\n",
       "| 66a05adde31f5a66 | ../input//landmark-recognition-2020/train//6/6/a/66a05adde31f5a66.jpg | 138982 | 6272 |\n",
       "| a5ed190d9b9e9387 | ../input//landmark-recognition-2020/train//a/5/e/a5ed190d9b9e9387.jpg | 126637 | 2231 |\n",
       "| 4312fc17806e1e6a | ../input//landmark-recognition-2020/train//4/3/1/4312fc17806e1e6a.jpg | 20409  | 1758 |\n",
       "| fa2615c7cedc5ff2 | ../input//landmark-recognition-2020/train//f/a/2/fa2615c7cedc5ff2.jpg | 20409  | 1758 |\n",
       "| 1d823dcb048afe5b | ../input//landmark-recognition-2020/train//1/d/8/1d823dcb048afe5b.jpg | 20409  | 1758 |\n",
       "| a5080e4d5086c21a | ../input//landmark-recognition-2020/train//a/5/0/a5080e4d5086c21a.jpg | 83144  | 1741 |\n",
       "\n"
      ],
      "text/plain": [
       "  id              \n",
       "1 66a05adde31f5a66\n",
       "2 a5ed190d9b9e9387\n",
       "3 4312fc17806e1e6a\n",
       "4 fa2615c7cedc5ff2\n",
       "5 1d823dcb048afe5b\n",
       "6 a5080e4d5086c21a\n",
       "  file_path                                                            \n",
       "1 ../input//landmark-recognition-2020/train//6/6/a/66a05adde31f5a66.jpg\n",
       "2 ../input//landmark-recognition-2020/train//a/5/e/a5ed190d9b9e9387.jpg\n",
       "3 ../input//landmark-recognition-2020/train//4/3/1/4312fc17806e1e6a.jpg\n",
       "4 ../input//landmark-recognition-2020/train//f/a/2/fa2615c7cedc5ff2.jpg\n",
       "5 ../input//landmark-recognition-2020/train//1/d/8/1d823dcb048afe5b.jpg\n",
       "6 ../input//landmark-recognition-2020/train//a/5/0/a5080e4d5086c21a.jpg\n",
       "  landmark_id count_class\n",
       "1 138982      6272       \n",
       "2 126637      2231       \n",
       "3 20409       1758       \n",
       "4 20409       1758       \n",
       "5 20409       1758       \n",
       "6 83144       1741       "
      ]
     },
     "metadata": {},
     "output_type": "display_data"
    },
    {
     "data": {
      "text/html": [
       "<style>\n",
       ".list-inline {list-style: none; margin:0; padding: 0}\n",
       ".list-inline>li {display: inline-block}\n",
       ".list-inline>li:not(:last-child)::after {content: \"\\00b7\"; padding: 0 .5ex}\n",
       "</style>\n",
       "<ol class=list-inline><li>11712</li><li>4</li></ol>\n"
      ],
      "text/latex": [
       "\\begin{enumerate*}\n",
       "\\item 11712\n",
       "\\item 4\n",
       "\\end{enumerate*}\n"
      ],
      "text/markdown": [
       "1. 11712\n",
       "2. 4\n",
       "\n",
       "\n"
      ],
      "text/plain": [
       "[1] 11712     4"
      ]
     },
     "metadata": {},
     "output_type": "display_data"
    }
   ],
   "source": [
    "train_dataframe <- read_csv(file = \"/kaggle/input/1-read-landmark-recognition-train-test-validation/train_dataframe.csv\")\n",
    "train_dataframe$landmark_id <- as.character(train_dataframe$landmark_id)\n",
    "train_dataframe$count_class <- as.character(train_dataframe$count_class)\n",
    "head(train_dataframe)\n",
    "dim(train_dataframe)"
   ]
  },
  {
   "cell_type": "code",
   "execution_count": 7,
   "metadata": {
    "execution": {
     "iopub.execute_input": "2020-09-01T06:25:20.757883Z",
     "iopub.status.busy": "2020-09-01T06:25:20.756228Z",
     "iopub.status.idle": "2020-09-01T06:53:45.653983Z",
     "shell.execute_reply": "2020-09-01T06:53:45.654528Z"
    },
    "papermill": {
     "duration": 1704.920499,
     "end_time": "2020-09-01T06:53:45.654772",
     "exception": false,
     "start_time": "2020-09-01T06:25:20.734273",
     "status": "completed"
    },
    "tags": []
   },
   "outputs": [
    {
     "name": "stdout",
     "output_type": "stream",
     "text": [
      "[1] 1\n",
      "[1] 2\n",
      "[1] 3\n",
      "[1] 4\n",
      "[1] 5\n",
      "[1] 6\n",
      "[1] 7\n",
      "[1] 8\n",
      "[1] 9\n",
      "[1] 10\n",
      "[1] 11\n",
      "[1] 12\n",
      "[1] 13\n",
      "[1] 14\n",
      "[1] 15\n",
      "[1] 16\n",
      "[1] 17\n",
      "[1] 18\n",
      "[1] 19\n",
      "[1] 20\n",
      "[1] 21\n",
      "[1] 22\n",
      "[1] 23\n",
      "[1] 24\n",
      "[1] 25\n",
      "[1] 26\n",
      "[1] 27\n",
      "[1] 28\n",
      "[1] 29\n",
      "[1] 30\n",
      "[1] 31\n",
      "[1] 32\n",
      "[1] 33\n",
      "[1] 34\n",
      "[1] 35\n",
      "[1] 36\n",
      "[1] 37\n",
      "[1] 38\n",
      "[1] 39\n",
      "[1] 40\n",
      "[1] 41\n",
      "[1] 42\n",
      "[1] 43\n",
      "[1] 44\n",
      "[1] 45\n",
      "[1] 46\n",
      "[1] 47\n",
      "[1] 48\n",
      "[1] 49\n",
      "[1] 50\n",
      "[1] 51\n",
      "[1] 52\n",
      "[1] 53\n",
      "[1] 54\n",
      "[1] 55\n",
      "[1] 56\n",
      "[1] 57\n",
      "[1] 58\n",
      "[1] 59\n",
      "[1] 60\n",
      "[1] 61\n",
      "[1] 62\n",
      "[1] 63\n",
      "[1] 64\n",
      "[1] 65\n",
      "[1] 66\n",
      "[1] 67\n",
      "[1] 68\n",
      "[1] 69\n",
      "[1] 70\n",
      "[1] 71\n",
      "[1] 72\n",
      "[1] 73\n",
      "[1] 74\n",
      "[1] 75\n",
      "[1] 76\n",
      "[1] 77\n",
      "[1] 78\n",
      "[1] 79\n",
      "[1] 80\n",
      "[1] 81\n",
      "[1] 82\n",
      "[1] 83\n",
      "[1] 84\n",
      "[1] 85\n",
      "[1] 86\n",
      "[1] 87\n",
      "[1] 88\n",
      "[1] 89\n",
      "[1] 90\n",
      "[1] 91\n",
      "[1] 92\n",
      "[1] 93\n",
      "[1] 94\n",
      "[1] 95\n",
      "[1] 96\n",
      "[1] 97\n",
      "[1] 98\n",
      "[1] 99\n",
      "[1] 100\n",
      "[1] 101\n",
      "[1] 102\n",
      "[1] 103\n",
      "[1] 104\n",
      "[1] 105\n",
      "[1] 106\n",
      "[1] 107\n",
      "[1] 108\n",
      "[1] 109\n",
      "[1] 110\n",
      "[1] 111\n",
      "[1] 112\n",
      "[1] 113\n",
      "[1] 114\n",
      "[1] 115\n",
      "[1] 116\n",
      "[1] 117\n",
      "[1] 118\n",
      "[1] 119\n",
      "[1] 120\n",
      "[1] 121\n",
      "[1] 122\n",
      "[1] 123\n",
      "[1] 124\n",
      "[1] 125\n",
      "[1] 126\n",
      "[1] 127\n",
      "[1] 128\n",
      "[1] 129\n",
      "[1] 130\n",
      "[1] 131\n",
      "[1] 132\n",
      "[1] 133\n",
      "[1] 134\n",
      "[1] 135\n",
      "[1] 136\n",
      "[1] 137\n",
      "[1] 138\n",
      "[1] 139\n",
      "[1] 140\n",
      "[1] 141\n",
      "[1] 142\n",
      "[1] 143\n",
      "[1] 144\n",
      "[1] 145\n",
      "[1] 146\n",
      "[1] 147\n",
      "[1] 148\n",
      "[1] 149\n",
      "[1] 150\n",
      "[1] 151\n",
      "[1] 152\n",
      "[1] 153\n",
      "[1] 154\n",
      "[1] 155\n",
      "[1] 156\n",
      "[1] 157\n",
      "[1] 158\n",
      "[1] 159\n",
      "[1] 160\n",
      "[1] 161\n",
      "[1] 162\n",
      "[1] 163\n",
      "[1] 164\n",
      "[1] 165\n",
      "[1] 166\n",
      "[1] 167\n",
      "[1] 168\n",
      "[1] 169\n",
      "[1] 170\n",
      "[1] 171\n",
      "[1] 172\n",
      "[1] 173\n",
      "[1] 174\n",
      "[1] 175\n",
      "[1] 176\n",
      "[1] 177\n",
      "[1] 178\n",
      "[1] 179\n",
      "[1] 180\n",
      "[1] 181\n",
      "[1] 182\n",
      "[1] 183\n"
     ]
    }
   ],
   "source": [
    "train <-extract_features(dataframe = train_dataframe,sample_count = nrow(train_dataframe))"
   ]
  },
  {
   "cell_type": "code",
   "execution_count": 8,
   "metadata": {
    "execution": {
     "iopub.execute_input": "2020-09-01T06:53:45.848872Z",
     "iopub.status.busy": "2020-09-01T06:53:45.848210Z",
     "iopub.status.idle": "2020-09-01T06:53:45.868587Z",
     "shell.execute_reply": "2020-09-01T06:53:45.866854Z"
    },
    "papermill": {
     "duration": 0.190299,
     "end_time": "2020-09-01T06:53:45.868825",
     "exception": false,
     "start_time": "2020-09-01T06:53:45.678526",
     "status": "completed"
    },
    "tags": []
   },
   "outputs": [
    {
     "name": "stdout",
     "output_type": "stream",
     "text": [
      "List of 2\n",
      " $ features: num [1:11712, 1:4, 1:4, 1:512] 0 0.0676 0 0 0.0248 ...\n",
      " $ labels  : num [1:11712, 1:7] 0 0 1 0 0 0 0 0 0 0 ...\n"
     ]
    }
   ],
   "source": [
    "str(train)"
   ]
  },
  {
   "cell_type": "code",
   "execution_count": 9,
   "metadata": {
    "execution": {
     "iopub.execute_input": "2020-09-01T06:53:45.910814Z",
     "iopub.status.busy": "2020-09-01T06:53:45.909056Z",
     "iopub.status.idle": "2020-09-01T06:53:45.922856Z",
     "shell.execute_reply": "2020-09-01T06:53:45.921702Z"
    },
    "papermill": {
     "duration": 0.035908,
     "end_time": "2020-09-01T06:53:45.923019",
     "exception": false,
     "start_time": "2020-09-01T06:53:45.887111",
     "status": "completed"
    },
    "tags": []
   },
   "outputs": [],
   "source": [
    "# reshape\n",
    "reshape_features <- function(features){\n",
    "    array_reshape(features, dim = c(nrow(features), 4*4*512)) \n",
    "}"
   ]
  },
  {
   "cell_type": "code",
   "execution_count": 10,
   "metadata": {
    "execution": {
     "iopub.execute_input": "2020-09-01T06:53:45.965353Z",
     "iopub.status.busy": "2020-09-01T06:53:45.963600Z",
     "iopub.status.idle": "2020-09-01T06:53:52.471620Z",
     "shell.execute_reply": "2020-09-01T06:53:52.469991Z"
    },
    "papermill": {
     "duration": 6.53065,
     "end_time": "2020-09-01T06:53:52.471885",
     "exception": false,
     "start_time": "2020-09-01T06:53:45.941235",
     "status": "completed"
    },
    "tags": []
   },
   "outputs": [],
   "source": [
    "train$features <- reshape_features(train$features)"
   ]
  },
  {
   "cell_type": "code",
   "execution_count": 11,
   "metadata": {
    "execution": {
     "iopub.execute_input": "2020-09-01T06:53:52.513645Z",
     "iopub.status.busy": "2020-09-01T06:53:52.512398Z",
     "iopub.status.idle": "2020-09-01T06:53:52.529234Z",
     "shell.execute_reply": "2020-09-01T06:53:52.527610Z"
    },
    "papermill": {
     "duration": 0.039042,
     "end_time": "2020-09-01T06:53:52.529404",
     "exception": false,
     "start_time": "2020-09-01T06:53:52.490362",
     "status": "completed"
    },
    "tags": []
   },
   "outputs": [
    {
     "name": "stdout",
     "output_type": "stream",
     "text": [
      "List of 2\n",
      " $ features: num [1:11712, 1:8192] 0 0.0676 0 0 0.0248 ...\n",
      " $ labels  : num [1:11712, 1:7] 0 0 1 0 0 0 0 0 0 0 ...\n"
     ]
    }
   ],
   "source": [
    "str(train)"
   ]
  },
  {
   "cell_type": "code",
   "execution_count": 12,
   "metadata": {
    "execution": {
     "iopub.execute_input": "2020-09-01T06:53:52.572812Z",
     "iopub.status.busy": "2020-09-01T06:53:52.571031Z",
     "iopub.status.idle": "2020-09-01T06:54:29.843604Z",
     "shell.execute_reply": "2020-09-01T06:54:29.842429Z"
    },
    "papermill": {
     "duration": 37.295723,
     "end_time": "2020-09-01T06:54:29.843856",
     "exception": false,
     "start_time": "2020-09-01T06:53:52.548133",
     "status": "completed"
    },
    "tags": []
   },
   "outputs": [],
   "source": [
    "saveRDS(object = train,file = \"train.Rds\")"
   ]
  },
  {
   "cell_type": "code",
   "execution_count": 13,
   "metadata": {
    "execution": {
     "iopub.execute_input": "2020-09-01T06:54:29.887574Z",
     "iopub.status.busy": "2020-09-01T06:54:29.886293Z",
     "iopub.status.idle": "2020-09-01T06:54:34.593490Z",
     "shell.execute_reply": "2020-09-01T06:54:34.592413Z"
    },
    "papermill": {
     "duration": 4.72999,
     "end_time": "2020-09-01T06:54:34.593782",
     "exception": false,
     "start_time": "2020-09-01T06:54:29.863792",
     "status": "completed"
    },
    "tags": []
   },
   "outputs": [],
   "source": [
    "# label index\n",
    "dataframe=train_dataframe\n",
    "datagen <- image_data_generator(rescale = 1/255)\n",
    "generator <- flow_images_from_dataframe(\n",
    "    dataframe = dataframe, \n",
    "    x_col = \"file_path\", \n",
    "    y_col= \"landmark_id\",\n",
    "    generator = datagen,\n",
    "    target_size = c(150,150),\n",
    "    batch_size = batch_size,\n",
    "    class_mode=\"categorical\"\n",
    "    )    \n",
    "label_map = (generator$class_indices)\n",
    "col_names=names(label_map)"
   ]
  },
  {
   "cell_type": "code",
   "execution_count": 14,
   "metadata": {
    "execution": {
     "iopub.execute_input": "2020-09-01T06:54:34.637971Z",
     "iopub.status.busy": "2020-09-01T06:54:34.636710Z",
     "iopub.status.idle": "2020-09-01T06:54:34.654908Z",
     "shell.execute_reply": "2020-09-01T06:54:34.653671Z"
    },
    "papermill": {
     "duration": 0.041724,
     "end_time": "2020-09-01T06:54:34.655061",
     "exception": false,
     "start_time": "2020-09-01T06:54:34.613337",
     "status": "completed"
    },
    "tags": []
   },
   "outputs": [
    {
     "data": {
      "text/html": [
       "<dl>\n",
       "\t<dt>$`113209`</dt>\n",
       "\t\t<dd>0</dd>\n",
       "\t<dt>$`126637`</dt>\n",
       "\t\t<dd>1</dd>\n",
       "\t<dt>$`138982`</dt>\n",
       "\t\t<dd>2</dd>\n",
       "\t<dt>$`177870`</dt>\n",
       "\t\t<dd>3</dd>\n",
       "\t<dt>$`194914`</dt>\n",
       "\t\t<dd>4</dd>\n",
       "\t<dt>$`20409`</dt>\n",
       "\t\t<dd>5</dd>\n",
       "\t<dt>$`83144`</dt>\n",
       "\t\t<dd>6</dd>\n",
       "</dl>\n"
      ],
      "text/latex": [
       "\\begin{description}\n",
       "\\item[\\$`113209`] 0\n",
       "\\item[\\$`126637`] 1\n",
       "\\item[\\$`138982`] 2\n",
       "\\item[\\$`177870`] 3\n",
       "\\item[\\$`194914`] 4\n",
       "\\item[\\$`20409`] 5\n",
       "\\item[\\$`83144`] 6\n",
       "\\end{description}\n"
      ],
      "text/markdown": [
       "$`113209`\n",
       ":   0\n",
       "$`126637`\n",
       ":   1\n",
       "$`138982`\n",
       ":   2\n",
       "$`177870`\n",
       ":   3\n",
       "$`194914`\n",
       ":   4\n",
       "$`20409`\n",
       ":   5\n",
       "$`83144`\n",
       ":   6\n",
       "\n",
       "\n"
      ],
      "text/plain": [
       "$`113209`\n",
       "[1] 0\n",
       "\n",
       "$`126637`\n",
       "[1] 1\n",
       "\n",
       "$`138982`\n",
       "[1] 2\n",
       "\n",
       "$`177870`\n",
       "[1] 3\n",
       "\n",
       "$`194914`\n",
       "[1] 4\n",
       "\n",
       "$`20409`\n",
       "[1] 5\n",
       "\n",
       "$`83144`\n",
       "[1] 6\n"
      ]
     },
     "metadata": {},
     "output_type": "display_data"
    }
   ],
   "source": [
    "generator$class_indices"
   ]
  },
  {
   "cell_type": "code",
   "execution_count": 15,
   "metadata": {
    "execution": {
     "iopub.execute_input": "2020-09-01T06:54:34.700160Z",
     "iopub.status.busy": "2020-09-01T06:54:34.698890Z",
     "iopub.status.idle": "2020-09-01T06:54:34.711207Z",
     "shell.execute_reply": "2020-09-01T06:54:34.710006Z"
    },
    "papermill": {
     "duration": 0.036082,
     "end_time": "2020-09-01T06:54:34.711356",
     "exception": false,
     "start_time": "2020-09-01T06:54:34.675274",
     "status": "completed"
    },
    "tags": []
   },
   "outputs": [],
   "source": [
    "saveRDS(object = col_names,file = \"col_names.Rds\")"
   ]
  }
 ],
 "metadata": {
  "kernelspec": {
   "display_name": "R",
   "language": "R",
   "name": "ir"
  },
  "language_info": {
   "codemirror_mode": "r",
   "file_extension": ".r",
   "mimetype": "text/x-r-source",
   "name": "R",
   "pygments_lexer": "r",
   "version": "3.6.3"
  },
  "papermill": {
   "duration": 1766.710215,
   "end_time": "2020-09-01T06:54:35.041958",
   "environment_variables": {},
   "exception": null,
   "input_path": "__notebook__.ipynb",
   "output_path": "__notebook__.ipynb",
   "parameters": {},
   "start_time": "2020-09-01T06:25:08.331743",
   "version": "2.1.2"
  }
 },
 "nbformat": 4,
 "nbformat_minor": 4
}
